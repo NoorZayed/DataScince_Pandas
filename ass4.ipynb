{
  "nbformat": 4,
  "nbformat_minor": 0,
  "metadata": {
    "colab": {
      "provenance": []
    },
    "kernelspec": {
      "name": "python3",
      "display_name": "Python 3"
    },
    "language_info": {
      "name": "python"
    }
  },
  "cells": [
    {
      "cell_type": "markdown",
      "source": [
        "#**Assignment #4**\n",
        "\n",
        "*   **Nour Zayed**\n",
        "*   **ID:1210264**"
      ],
      "metadata": {
        "id": "R9BtLV3_5v1K"
      }
    },
    {
      "cell_type": "markdown",
      "source": [
        "The Link of the DataSet:\n",
        "[Data Science Job](https://www.kaggle.com/datasets/zain280/data-science-job?resource=download)"
      ],
      "metadata": {
        "id": "ehmU7ErR8Bw6"
      }
    },
    {
      "cell_type": "markdown",
      "source": [
        "# Data Science Job\n",
        "\n",
        "\n",
        "*  **About Dataset**\n",
        "\n",
        " A Comprehensive Dataset of Data Science Job Listings\" is a meticulously curated dataset aimed at providing researchers, analysts, and practitioners in the field of data science with a rich resource for understanding the landscape of employment opportunities in this burgeoning field. This dataset aggregates information from various sources such as job boards, company websites, and professional networks to offer a diverse and representative sample of data science job listings.\n",
        "\n",
        "\n",
        "\n"
      ],
      "metadata": {
        "id": "04qzlOo-pobB"
      }
    },
    {
      "cell_type": "markdown",
      "source": [
        "\n",
        "\n",
        "*   **The dataset encompasses a wide range of attributes related to each job listing:**\n",
        "\n",
        "\n"
      ],
      "metadata": {
        "id": "VQvMZtipqMXh"
      }
    },
    {
      "cell_type": "markdown",
      "source": [
        "| Column Name             | Data Type | Description                                                                                      |\n",
        "|-------------------------|-----------|--------------------------------------------------------------------------------------------------|\n",
        "| Enrollee ID             | Integer   | Unique identifier for each enrollee                                                              |\n",
        "| City                    | String    | The city where the enrollee is located                                                           |\n",
        "| City Development Index  | Float     | The development index of the city, representing its economic and infrastructural development    |\n",
        "| Gender                  | String    | The gender of the enrollee (Male, Female, or Other)                                               |\n",
        "| Relevant Experience     | String    | Indicates whether the enrollee has relevant work experience (Yes or No)                           |\n",
        "| Enrolled University     | String    | The type of university enrollment for the enrollee (Full time, Part time, or No enrollment)       |\n",
        "| Education Level         | String    | The highest level of education attained by the enrollee (Graduate, Masters, High School, etc.)    |\n",
        "| Major Discipline        | String    | The primary field of study or discipline of the enrollee                                          |\n",
        "| Experience              | Float     | The number of years of work experience of the enrollee                                            |\n",
        "| Company Size            | String    | The size category of the company where the enrollee works (Small, Medium, Large, etc.)            |\n",
        "| Company Type            | String    | The type of company where the enrollee works (Private Ltd, Funded Startup, Public Sector, etc.)   |\n",
        "| Training Hours          | Float     | The number of training hours completed by the enrollee                                             |\n",
        "| Target                  | Float     | Target variable indicating whether the enrollee is likely to leave (1) or stay (0) with the company| **bold text**"
      ],
      "metadata": {
        "id": "EY6wt-2zmsUN"
      }
    },
    {
      "cell_type": "markdown",
      "source": [
        "**Imports Libraries**"
      ],
      "metadata": {
        "id": "aIuGM_OunjHR"
      }
    },
    {
      "cell_type": "code",
      "source": [
        "import seaborn as sns\n",
        "import pandas as pd\n",
        "import matplotlib.pyplot as plt\n",
        "import numpy as np  # Import numpy for linspace function\n",
        "from scipy import stats  # Import for normal distribution reference line\n",
        "\n"
      ],
      "metadata": {
        "id": "szTWe5gPfS24"
      },
      "execution_count": null,
      "outputs": []
    },
    {
      "cell_type": "markdown",
      "source": [
        "***Read the File of DataSet***"
      ],
      "metadata": {
        "id": "NxX3LVNDpb90"
      }
    },
    {
      "cell_type": "code",
      "source": [
        "\n",
        "# read the data file\n",
        "df = pd.read_csv(\"data_science_job.csv\")\n",
        "df\n"
      ],
      "metadata": {
        "colab": {
          "base_uri": "https://localhost:8080/",
          "height": 444
        },
        "id": "Lz2gU5bM5z74",
        "outputId": "c3663260-08fd-4d00-91c7-0db82069d240"
      },
      "execution_count": null,
      "outputs": [
        {
          "output_type": "execute_result",
          "data": {
            "text/plain": [
              "       enrollee_id      city  city_development_index gender  \\\n",
              "0             8949  city_103                   0.920   Male   \n",
              "1            29725   city_40                   0.776   Male   \n",
              "2            11561   city_21                   0.624    NaN   \n",
              "3            33241  city_115                   0.789    NaN   \n",
              "4              666  city_162                   0.767   Male   \n",
              "...            ...       ...                     ...    ...   \n",
              "19153         7386  city_173                   0.878   Male   \n",
              "19154        31398  city_103                   0.920   Male   \n",
              "19155        24576  city_103                   0.920   Male   \n",
              "19156         5756   city_65                   0.802   Male   \n",
              "19157        23834   city_67                   0.855    NaN   \n",
              "\n",
              "           relevent_experience enrolled_university education_level  \\\n",
              "0      Has relevent experience       no_enrollment        Graduate   \n",
              "1       No relevent experience       no_enrollment        Graduate   \n",
              "2       No relevent experience    Full time course        Graduate   \n",
              "3       No relevent experience                 NaN        Graduate   \n",
              "4      Has relevent experience       no_enrollment         Masters   \n",
              "...                        ...                 ...             ...   \n",
              "19153   No relevent experience       no_enrollment        Graduate   \n",
              "19154  Has relevent experience       no_enrollment        Graduate   \n",
              "19155  Has relevent experience       no_enrollment        Graduate   \n",
              "19156  Has relevent experience       no_enrollment     High School   \n",
              "19157   No relevent experience       no_enrollment  Primary School   \n",
              "\n",
              "      major_discipline  experience company_size    company_type  \\\n",
              "0                 STEM        20.0          NaN             NaN   \n",
              "1                 STEM        15.0        50-99         Pvt Ltd   \n",
              "2                 STEM         5.0          NaN             NaN   \n",
              "3      Business Degree         0.0          NaN         Pvt Ltd   \n",
              "4                 STEM        20.0        50-99  Funded Startup   \n",
              "...                ...         ...          ...             ...   \n",
              "19153       Humanities        14.0          NaN             NaN   \n",
              "19154             STEM        14.0          NaN             NaN   \n",
              "19155             STEM        20.0        50-99         Pvt Ltd   \n",
              "19156              NaN         0.0      500-999         Pvt Ltd   \n",
              "19157              NaN         2.0          NaN             NaN   \n",
              "\n",
              "       training_hours  target  \n",
              "0                36.0     1.0  \n",
              "1                47.0     0.0  \n",
              "2                83.0     0.0  \n",
              "3                52.0     1.0  \n",
              "4                 8.0     0.0  \n",
              "...               ...     ...  \n",
              "19153            42.0     1.0  \n",
              "19154            52.0     1.0  \n",
              "19155            44.0     0.0  \n",
              "19156            97.0     0.0  \n",
              "19157           127.0     0.0  \n",
              "\n",
              "[19158 rows x 13 columns]"
            ],
            "text/html": [
              "\n",
              "  <div id=\"df-dfbf7dc2-f4df-48a2-aa65-9ff1a652542d\" class=\"colab-df-container\">\n",
              "    <div>\n",
              "<style scoped>\n",
              "    .dataframe tbody tr th:only-of-type {\n",
              "        vertical-align: middle;\n",
              "    }\n",
              "\n",
              "    .dataframe tbody tr th {\n",
              "        vertical-align: top;\n",
              "    }\n",
              "\n",
              "    .dataframe thead th {\n",
              "        text-align: right;\n",
              "    }\n",
              "</style>\n",
              "<table border=\"1\" class=\"dataframe\">\n",
              "  <thead>\n",
              "    <tr style=\"text-align: right;\">\n",
              "      <th></th>\n",
              "      <th>enrollee_id</th>\n",
              "      <th>city</th>\n",
              "      <th>city_development_index</th>\n",
              "      <th>gender</th>\n",
              "      <th>relevent_experience</th>\n",
              "      <th>enrolled_university</th>\n",
              "      <th>education_level</th>\n",
              "      <th>major_discipline</th>\n",
              "      <th>experience</th>\n",
              "      <th>company_size</th>\n",
              "      <th>company_type</th>\n",
              "      <th>training_hours</th>\n",
              "      <th>target</th>\n",
              "    </tr>\n",
              "  </thead>\n",
              "  <tbody>\n",
              "    <tr>\n",
              "      <th>0</th>\n",
              "      <td>8949</td>\n",
              "      <td>city_103</td>\n",
              "      <td>0.920</td>\n",
              "      <td>Male</td>\n",
              "      <td>Has relevent experience</td>\n",
              "      <td>no_enrollment</td>\n",
              "      <td>Graduate</td>\n",
              "      <td>STEM</td>\n",
              "      <td>20.0</td>\n",
              "      <td>NaN</td>\n",
              "      <td>NaN</td>\n",
              "      <td>36.0</td>\n",
              "      <td>1.0</td>\n",
              "    </tr>\n",
              "    <tr>\n",
              "      <th>1</th>\n",
              "      <td>29725</td>\n",
              "      <td>city_40</td>\n",
              "      <td>0.776</td>\n",
              "      <td>Male</td>\n",
              "      <td>No relevent experience</td>\n",
              "      <td>no_enrollment</td>\n",
              "      <td>Graduate</td>\n",
              "      <td>STEM</td>\n",
              "      <td>15.0</td>\n",
              "      <td>50-99</td>\n",
              "      <td>Pvt Ltd</td>\n",
              "      <td>47.0</td>\n",
              "      <td>0.0</td>\n",
              "    </tr>\n",
              "    <tr>\n",
              "      <th>2</th>\n",
              "      <td>11561</td>\n",
              "      <td>city_21</td>\n",
              "      <td>0.624</td>\n",
              "      <td>NaN</td>\n",
              "      <td>No relevent experience</td>\n",
              "      <td>Full time course</td>\n",
              "      <td>Graduate</td>\n",
              "      <td>STEM</td>\n",
              "      <td>5.0</td>\n",
              "      <td>NaN</td>\n",
              "      <td>NaN</td>\n",
              "      <td>83.0</td>\n",
              "      <td>0.0</td>\n",
              "    </tr>\n",
              "    <tr>\n",
              "      <th>3</th>\n",
              "      <td>33241</td>\n",
              "      <td>city_115</td>\n",
              "      <td>0.789</td>\n",
              "      <td>NaN</td>\n",
              "      <td>No relevent experience</td>\n",
              "      <td>NaN</td>\n",
              "      <td>Graduate</td>\n",
              "      <td>Business Degree</td>\n",
              "      <td>0.0</td>\n",
              "      <td>NaN</td>\n",
              "      <td>Pvt Ltd</td>\n",
              "      <td>52.0</td>\n",
              "      <td>1.0</td>\n",
              "    </tr>\n",
              "    <tr>\n",
              "      <th>4</th>\n",
              "      <td>666</td>\n",
              "      <td>city_162</td>\n",
              "      <td>0.767</td>\n",
              "      <td>Male</td>\n",
              "      <td>Has relevent experience</td>\n",
              "      <td>no_enrollment</td>\n",
              "      <td>Masters</td>\n",
              "      <td>STEM</td>\n",
              "      <td>20.0</td>\n",
              "      <td>50-99</td>\n",
              "      <td>Funded Startup</td>\n",
              "      <td>8.0</td>\n",
              "      <td>0.0</td>\n",
              "    </tr>\n",
              "    <tr>\n",
              "      <th>...</th>\n",
              "      <td>...</td>\n",
              "      <td>...</td>\n",
              "      <td>...</td>\n",
              "      <td>...</td>\n",
              "      <td>...</td>\n",
              "      <td>...</td>\n",
              "      <td>...</td>\n",
              "      <td>...</td>\n",
              "      <td>...</td>\n",
              "      <td>...</td>\n",
              "      <td>...</td>\n",
              "      <td>...</td>\n",
              "      <td>...</td>\n",
              "    </tr>\n",
              "    <tr>\n",
              "      <th>19153</th>\n",
              "      <td>7386</td>\n",
              "      <td>city_173</td>\n",
              "      <td>0.878</td>\n",
              "      <td>Male</td>\n",
              "      <td>No relevent experience</td>\n",
              "      <td>no_enrollment</td>\n",
              "      <td>Graduate</td>\n",
              "      <td>Humanities</td>\n",
              "      <td>14.0</td>\n",
              "      <td>NaN</td>\n",
              "      <td>NaN</td>\n",
              "      <td>42.0</td>\n",
              "      <td>1.0</td>\n",
              "    </tr>\n",
              "    <tr>\n",
              "      <th>19154</th>\n",
              "      <td>31398</td>\n",
              "      <td>city_103</td>\n",
              "      <td>0.920</td>\n",
              "      <td>Male</td>\n",
              "      <td>Has relevent experience</td>\n",
              "      <td>no_enrollment</td>\n",
              "      <td>Graduate</td>\n",
              "      <td>STEM</td>\n",
              "      <td>14.0</td>\n",
              "      <td>NaN</td>\n",
              "      <td>NaN</td>\n",
              "      <td>52.0</td>\n",
              "      <td>1.0</td>\n",
              "    </tr>\n",
              "    <tr>\n",
              "      <th>19155</th>\n",
              "      <td>24576</td>\n",
              "      <td>city_103</td>\n",
              "      <td>0.920</td>\n",
              "      <td>Male</td>\n",
              "      <td>Has relevent experience</td>\n",
              "      <td>no_enrollment</td>\n",
              "      <td>Graduate</td>\n",
              "      <td>STEM</td>\n",
              "      <td>20.0</td>\n",
              "      <td>50-99</td>\n",
              "      <td>Pvt Ltd</td>\n",
              "      <td>44.0</td>\n",
              "      <td>0.0</td>\n",
              "    </tr>\n",
              "    <tr>\n",
              "      <th>19156</th>\n",
              "      <td>5756</td>\n",
              "      <td>city_65</td>\n",
              "      <td>0.802</td>\n",
              "      <td>Male</td>\n",
              "      <td>Has relevent experience</td>\n",
              "      <td>no_enrollment</td>\n",
              "      <td>High School</td>\n",
              "      <td>NaN</td>\n",
              "      <td>0.0</td>\n",
              "      <td>500-999</td>\n",
              "      <td>Pvt Ltd</td>\n",
              "      <td>97.0</td>\n",
              "      <td>0.0</td>\n",
              "    </tr>\n",
              "    <tr>\n",
              "      <th>19157</th>\n",
              "      <td>23834</td>\n",
              "      <td>city_67</td>\n",
              "      <td>0.855</td>\n",
              "      <td>NaN</td>\n",
              "      <td>No relevent experience</td>\n",
              "      <td>no_enrollment</td>\n",
              "      <td>Primary School</td>\n",
              "      <td>NaN</td>\n",
              "      <td>2.0</td>\n",
              "      <td>NaN</td>\n",
              "      <td>NaN</td>\n",
              "      <td>127.0</td>\n",
              "      <td>0.0</td>\n",
              "    </tr>\n",
              "  </tbody>\n",
              "</table>\n",
              "<p>19158 rows × 13 columns</p>\n",
              "</div>\n",
              "    <div class=\"colab-df-buttons\">\n",
              "\n",
              "  <div class=\"colab-df-container\">\n",
              "    <button class=\"colab-df-convert\" onclick=\"convertToInteractive('df-dfbf7dc2-f4df-48a2-aa65-9ff1a652542d')\"\n",
              "            title=\"Convert this dataframe to an interactive table.\"\n",
              "            style=\"display:none;\">\n",
              "\n",
              "  <svg xmlns=\"http://www.w3.org/2000/svg\" height=\"24px\" viewBox=\"0 -960 960 960\">\n",
              "    <path d=\"M120-120v-720h720v720H120Zm60-500h600v-160H180v160Zm220 220h160v-160H400v160Zm0 220h160v-160H400v160ZM180-400h160v-160H180v160Zm440 0h160v-160H620v160ZM180-180h160v-160H180v160Zm440 0h160v-160H620v160Z\"/>\n",
              "  </svg>\n",
              "    </button>\n",
              "\n",
              "  <style>\n",
              "    .colab-df-container {\n",
              "      display:flex;\n",
              "      gap: 12px;\n",
              "    }\n",
              "\n",
              "    .colab-df-convert {\n",
              "      background-color: #E8F0FE;\n",
              "      border: none;\n",
              "      border-radius: 50%;\n",
              "      cursor: pointer;\n",
              "      display: none;\n",
              "      fill: #1967D2;\n",
              "      height: 32px;\n",
              "      padding: 0 0 0 0;\n",
              "      width: 32px;\n",
              "    }\n",
              "\n",
              "    .colab-df-convert:hover {\n",
              "      background-color: #E2EBFA;\n",
              "      box-shadow: 0px 1px 2px rgba(60, 64, 67, 0.3), 0px 1px 3px 1px rgba(60, 64, 67, 0.15);\n",
              "      fill: #174EA6;\n",
              "    }\n",
              "\n",
              "    .colab-df-buttons div {\n",
              "      margin-bottom: 4px;\n",
              "    }\n",
              "\n",
              "    [theme=dark] .colab-df-convert {\n",
              "      background-color: #3B4455;\n",
              "      fill: #D2E3FC;\n",
              "    }\n",
              "\n",
              "    [theme=dark] .colab-df-convert:hover {\n",
              "      background-color: #434B5C;\n",
              "      box-shadow: 0px 1px 3px 1px rgba(0, 0, 0, 0.15);\n",
              "      filter: drop-shadow(0px 1px 2px rgba(0, 0, 0, 0.3));\n",
              "      fill: #FFFFFF;\n",
              "    }\n",
              "  </style>\n",
              "\n",
              "    <script>\n",
              "      const buttonEl =\n",
              "        document.querySelector('#df-dfbf7dc2-f4df-48a2-aa65-9ff1a652542d button.colab-df-convert');\n",
              "      buttonEl.style.display =\n",
              "        google.colab.kernel.accessAllowed ? 'block' : 'none';\n",
              "\n",
              "      async function convertToInteractive(key) {\n",
              "        const element = document.querySelector('#df-dfbf7dc2-f4df-48a2-aa65-9ff1a652542d');\n",
              "        const dataTable =\n",
              "          await google.colab.kernel.invokeFunction('convertToInteractive',\n",
              "                                                    [key], {});\n",
              "        if (!dataTable) return;\n",
              "\n",
              "        const docLinkHtml = 'Like what you see? Visit the ' +\n",
              "          '<a target=\"_blank\" href=https://colab.research.google.com/notebooks/data_table.ipynb>data table notebook</a>'\n",
              "          + ' to learn more about interactive tables.';\n",
              "        element.innerHTML = '';\n",
              "        dataTable['output_type'] = 'display_data';\n",
              "        await google.colab.output.renderOutput(dataTable, element);\n",
              "        const docLink = document.createElement('div');\n",
              "        docLink.innerHTML = docLinkHtml;\n",
              "        element.appendChild(docLink);\n",
              "      }\n",
              "    </script>\n",
              "  </div>\n",
              "\n",
              "\n",
              "<div id=\"df-21045f39-a28d-467b-9ef2-117baacf7852\">\n",
              "  <button class=\"colab-df-quickchart\" onclick=\"quickchart('df-21045f39-a28d-467b-9ef2-117baacf7852')\"\n",
              "            title=\"Suggest charts\"\n",
              "            style=\"display:none;\">\n",
              "\n",
              "<svg xmlns=\"http://www.w3.org/2000/svg\" height=\"24px\"viewBox=\"0 0 24 24\"\n",
              "     width=\"24px\">\n",
              "    <g>\n",
              "        <path d=\"M19 3H5c-1.1 0-2 .9-2 2v14c0 1.1.9 2 2 2h14c1.1 0 2-.9 2-2V5c0-1.1-.9-2-2-2zM9 17H7v-7h2v7zm4 0h-2V7h2v10zm4 0h-2v-4h2v4z\"/>\n",
              "    </g>\n",
              "</svg>\n",
              "  </button>\n",
              "\n",
              "<style>\n",
              "  .colab-df-quickchart {\n",
              "      --bg-color: #E8F0FE;\n",
              "      --fill-color: #1967D2;\n",
              "      --hover-bg-color: #E2EBFA;\n",
              "      --hover-fill-color: #174EA6;\n",
              "      --disabled-fill-color: #AAA;\n",
              "      --disabled-bg-color: #DDD;\n",
              "  }\n",
              "\n",
              "  [theme=dark] .colab-df-quickchart {\n",
              "      --bg-color: #3B4455;\n",
              "      --fill-color: #D2E3FC;\n",
              "      --hover-bg-color: #434B5C;\n",
              "      --hover-fill-color: #FFFFFF;\n",
              "      --disabled-bg-color: #3B4455;\n",
              "      --disabled-fill-color: #666;\n",
              "  }\n",
              "\n",
              "  .colab-df-quickchart {\n",
              "    background-color: var(--bg-color);\n",
              "    border: none;\n",
              "    border-radius: 50%;\n",
              "    cursor: pointer;\n",
              "    display: none;\n",
              "    fill: var(--fill-color);\n",
              "    height: 32px;\n",
              "    padding: 0;\n",
              "    width: 32px;\n",
              "  }\n",
              "\n",
              "  .colab-df-quickchart:hover {\n",
              "    background-color: var(--hover-bg-color);\n",
              "    box-shadow: 0 1px 2px rgba(60, 64, 67, 0.3), 0 1px 3px 1px rgba(60, 64, 67, 0.15);\n",
              "    fill: var(--button-hover-fill-color);\n",
              "  }\n",
              "\n",
              "  .colab-df-quickchart-complete:disabled,\n",
              "  .colab-df-quickchart-complete:disabled:hover {\n",
              "    background-color: var(--disabled-bg-color);\n",
              "    fill: var(--disabled-fill-color);\n",
              "    box-shadow: none;\n",
              "  }\n",
              "\n",
              "  .colab-df-spinner {\n",
              "    border: 2px solid var(--fill-color);\n",
              "    border-color: transparent;\n",
              "    border-bottom-color: var(--fill-color);\n",
              "    animation:\n",
              "      spin 1s steps(1) infinite;\n",
              "  }\n",
              "\n",
              "  @keyframes spin {\n",
              "    0% {\n",
              "      border-color: transparent;\n",
              "      border-bottom-color: var(--fill-color);\n",
              "      border-left-color: var(--fill-color);\n",
              "    }\n",
              "    20% {\n",
              "      border-color: transparent;\n",
              "      border-left-color: var(--fill-color);\n",
              "      border-top-color: var(--fill-color);\n",
              "    }\n",
              "    30% {\n",
              "      border-color: transparent;\n",
              "      border-left-color: var(--fill-color);\n",
              "      border-top-color: var(--fill-color);\n",
              "      border-right-color: var(--fill-color);\n",
              "    }\n",
              "    40% {\n",
              "      border-color: transparent;\n",
              "      border-right-color: var(--fill-color);\n",
              "      border-top-color: var(--fill-color);\n",
              "    }\n",
              "    60% {\n",
              "      border-color: transparent;\n",
              "      border-right-color: var(--fill-color);\n",
              "    }\n",
              "    80% {\n",
              "      border-color: transparent;\n",
              "      border-right-color: var(--fill-color);\n",
              "      border-bottom-color: var(--fill-color);\n",
              "    }\n",
              "    90% {\n",
              "      border-color: transparent;\n",
              "      border-bottom-color: var(--fill-color);\n",
              "    }\n",
              "  }\n",
              "</style>\n",
              "\n",
              "  <script>\n",
              "    async function quickchart(key) {\n",
              "      const quickchartButtonEl =\n",
              "        document.querySelector('#' + key + ' button');\n",
              "      quickchartButtonEl.disabled = true;  // To prevent multiple clicks.\n",
              "      quickchartButtonEl.classList.add('colab-df-spinner');\n",
              "      try {\n",
              "        const charts = await google.colab.kernel.invokeFunction(\n",
              "            'suggestCharts', [key], {});\n",
              "      } catch (error) {\n",
              "        console.error('Error during call to suggestCharts:', error);\n",
              "      }\n",
              "      quickchartButtonEl.classList.remove('colab-df-spinner');\n",
              "      quickchartButtonEl.classList.add('colab-df-quickchart-complete');\n",
              "    }\n",
              "    (() => {\n",
              "      let quickchartButtonEl =\n",
              "        document.querySelector('#df-21045f39-a28d-467b-9ef2-117baacf7852 button');\n",
              "      quickchartButtonEl.style.display =\n",
              "        google.colab.kernel.accessAllowed ? 'block' : 'none';\n",
              "    })();\n",
              "  </script>\n",
              "</div>\n",
              "\n",
              "  <div id=\"id_137acac0-7d4d-4365-b7a4-c69bf3c8b1a7\">\n",
              "    <style>\n",
              "      .colab-df-generate {\n",
              "        background-color: #E8F0FE;\n",
              "        border: none;\n",
              "        border-radius: 50%;\n",
              "        cursor: pointer;\n",
              "        display: none;\n",
              "        fill: #1967D2;\n",
              "        height: 32px;\n",
              "        padding: 0 0 0 0;\n",
              "        width: 32px;\n",
              "      }\n",
              "\n",
              "      .colab-df-generate:hover {\n",
              "        background-color: #E2EBFA;\n",
              "        box-shadow: 0px 1px 2px rgba(60, 64, 67, 0.3), 0px 1px 3px 1px rgba(60, 64, 67, 0.15);\n",
              "        fill: #174EA6;\n",
              "      }\n",
              "\n",
              "      [theme=dark] .colab-df-generate {\n",
              "        background-color: #3B4455;\n",
              "        fill: #D2E3FC;\n",
              "      }\n",
              "\n",
              "      [theme=dark] .colab-df-generate:hover {\n",
              "        background-color: #434B5C;\n",
              "        box-shadow: 0px 1px 3px 1px rgba(0, 0, 0, 0.15);\n",
              "        filter: drop-shadow(0px 1px 2px rgba(0, 0, 0, 0.3));\n",
              "        fill: #FFFFFF;\n",
              "      }\n",
              "    </style>\n",
              "    <button class=\"colab-df-generate\" onclick=\"generateWithVariable('df')\"\n",
              "            title=\"Generate code using this dataframe.\"\n",
              "            style=\"display:none;\">\n",
              "\n",
              "  <svg xmlns=\"http://www.w3.org/2000/svg\" height=\"24px\"viewBox=\"0 0 24 24\"\n",
              "       width=\"24px\">\n",
              "    <path d=\"M7,19H8.4L18.45,9,17,7.55,7,17.6ZM5,21V16.75L18.45,3.32a2,2,0,0,1,2.83,0l1.4,1.43a1.91,1.91,0,0,1,.58,1.4,1.91,1.91,0,0,1-.58,1.4L9.25,21ZM18.45,9,17,7.55Zm-12,3A5.31,5.31,0,0,0,4.9,8.1,5.31,5.31,0,0,0,1,6.5,5.31,5.31,0,0,0,4.9,4.9,5.31,5.31,0,0,0,6.5,1,5.31,5.31,0,0,0,8.1,4.9,5.31,5.31,0,0,0,12,6.5,5.46,5.46,0,0,0,6.5,12Z\"/>\n",
              "  </svg>\n",
              "    </button>\n",
              "    <script>\n",
              "      (() => {\n",
              "      const buttonEl =\n",
              "        document.querySelector('#id_137acac0-7d4d-4365-b7a4-c69bf3c8b1a7 button.colab-df-generate');\n",
              "      buttonEl.style.display =\n",
              "        google.colab.kernel.accessAllowed ? 'block' : 'none';\n",
              "\n",
              "      buttonEl.onclick = () => {\n",
              "        google.colab.notebook.generateWithVariable('df');\n",
              "      }\n",
              "      })();\n",
              "    </script>\n",
              "  </div>\n",
              "\n",
              "    </div>\n",
              "  </div>\n"
            ],
            "application/vnd.google.colaboratory.intrinsic+json": {
              "type": "dataframe",
              "variable_name": "df",
              "summary": "{\n  \"name\": \"df\",\n  \"rows\": 19158,\n  \"fields\": [\n    {\n      \"column\": \"enrollee_id\",\n      \"properties\": {\n        \"dtype\": \"number\",\n        \"std\": 9616,\n        \"min\": 1,\n        \"max\": 33380,\n        \"num_unique_values\": 19158,\n        \"samples\": [\n          6992,\n          8637,\n          24729\n        ],\n        \"semantic_type\": \"\",\n        \"description\": \"\"\n      }\n    },\n    {\n      \"column\": \"city\",\n      \"properties\": {\n        \"dtype\": \"category\",\n        \"num_unique_values\": 123,\n        \"samples\": [\n          \"city_64\",\n          \"city_70\",\n          \"city_94\"\n        ],\n        \"semantic_type\": \"\",\n        \"description\": \"\"\n      }\n    },\n    {\n      \"column\": \"city_development_index\",\n      \"properties\": {\n        \"dtype\": \"number\",\n        \"std\": 0.12333440178808346,\n        \"min\": 0.4479999999999999,\n        \"max\": 0.949,\n        \"num_unique_values\": 93,\n        \"samples\": [\n          0.775,\n          0.939,\n          0.738\n        ],\n        \"semantic_type\": \"\",\n        \"description\": \"\"\n      }\n    },\n    {\n      \"column\": \"gender\",\n      \"properties\": {\n        \"dtype\": \"category\",\n        \"num_unique_values\": 3,\n        \"samples\": [\n          \"Male\",\n          \"Female\",\n          \"Other\"\n        ],\n        \"semantic_type\": \"\",\n        \"description\": \"\"\n      }\n    },\n    {\n      \"column\": \"relevent_experience\",\n      \"properties\": {\n        \"dtype\": \"category\",\n        \"num_unique_values\": 2,\n        \"samples\": [\n          \"No relevent experience\",\n          \"Has relevent experience\"\n        ],\n        \"semantic_type\": \"\",\n        \"description\": \"\"\n      }\n    },\n    {\n      \"column\": \"enrolled_university\",\n      \"properties\": {\n        \"dtype\": \"category\",\n        \"num_unique_values\": 3,\n        \"samples\": [\n          \"no_enrollment\",\n          \"Full time course\"\n        ],\n        \"semantic_type\": \"\",\n        \"description\": \"\"\n      }\n    },\n    {\n      \"column\": \"education_level\",\n      \"properties\": {\n        \"dtype\": \"category\",\n        \"num_unique_values\": 5,\n        \"samples\": [\n          \"Masters\",\n          \"Primary School\"\n        ],\n        \"semantic_type\": \"\",\n        \"description\": \"\"\n      }\n    },\n    {\n      \"column\": \"major_discipline\",\n      \"properties\": {\n        \"dtype\": \"category\",\n        \"num_unique_values\": 6,\n        \"samples\": [\n          \"STEM\",\n          \"Business Degree\"\n        ],\n        \"semantic_type\": \"\",\n        \"description\": \"\"\n      }\n    },\n    {\n      \"column\": \"experience\",\n      \"properties\": {\n        \"dtype\": \"number\",\n        \"std\": 6.50526838535386,\n        \"min\": 0.0,\n        \"max\": 20.0,\n        \"num_unique_values\": 21,\n        \"samples\": [\n          20.0,\n          3.0\n        ],\n        \"semantic_type\": \"\",\n        \"description\": \"\"\n      }\n    },\n    {\n      \"column\": \"company_size\",\n      \"properties\": {\n        \"dtype\": \"category\",\n        \"num_unique_values\": 8,\n        \"samples\": [\n          \"<10\",\n          \"10/49\"\n        ],\n        \"semantic_type\": \"\",\n        \"description\": \"\"\n      }\n    },\n    {\n      \"column\": \"company_type\",\n      \"properties\": {\n        \"dtype\": \"category\",\n        \"num_unique_values\": 6,\n        \"samples\": [\n          \"Pvt Ltd\",\n          \"Funded Startup\"\n        ],\n        \"semantic_type\": \"\",\n        \"description\": \"\"\n      }\n    },\n    {\n      \"column\": \"training_hours\",\n      \"properties\": {\n        \"dtype\": \"number\",\n        \"std\": 59.885625933098005,\n        \"min\": 1.0,\n        \"max\": 336.0,\n        \"num_unique_values\": 241,\n        \"samples\": [\n          40.0,\n          18.0\n        ],\n        \"semantic_type\": \"\",\n        \"description\": \"\"\n      }\n    },\n    {\n      \"column\": \"target\",\n      \"properties\": {\n        \"dtype\": \"number\",\n        \"std\": 0.4326466344562528,\n        \"min\": 0.0,\n        \"max\": 1.0,\n        \"num_unique_values\": 2,\n        \"samples\": [\n          0.0,\n          1.0\n        ],\n        \"semantic_type\": \"\",\n        \"description\": \"\"\n      }\n    }\n  ]\n}"
            }
          },
          "metadata": {},
          "execution_count": 104
        }
      ]
    },
    {
      "cell_type": "markdown",
      "source": [
        "**describe the data set**"
      ],
      "metadata": {
        "id": "6syl69MvsGzx"
      }
    },
    {
      "cell_type": "code",
      "source": [
        "#explore datafram\n",
        "df.info()"
      ],
      "metadata": {
        "colab": {
          "base_uri": "https://localhost:8080/"
        },
        "id": "PrLxxmrn6Z8v",
        "outputId": "39f4a97f-6580-48f8-dee9-8f6ef4da8915"
      },
      "execution_count": null,
      "outputs": [
        {
          "output_type": "stream",
          "name": "stdout",
          "text": [
            "<class 'pandas.core.frame.DataFrame'>\n",
            "RangeIndex: 19158 entries, 0 to 19157\n",
            "Data columns (total 13 columns):\n",
            " #   Column                  Non-Null Count  Dtype  \n",
            "---  ------                  --------------  -----  \n",
            " 0   enrollee_id             19158 non-null  int64  \n",
            " 1   city                    19158 non-null  object \n",
            " 2   city_development_index  18679 non-null  float64\n",
            " 3   gender                  14650 non-null  object \n",
            " 4   relevent_experience     19158 non-null  object \n",
            " 5   enrolled_university     18772 non-null  object \n",
            " 6   education_level         18698 non-null  object \n",
            " 7   major_discipline        16345 non-null  object \n",
            " 8   experience              19093 non-null  float64\n",
            " 9   company_size            13220 non-null  object \n",
            " 10  company_type            13018 non-null  object \n",
            " 11  training_hours          18392 non-null  float64\n",
            " 12  target                  19158 non-null  float64\n",
            "dtypes: float64(4), int64(1), object(8)\n",
            "memory usage: 1.9+ MB\n"
          ]
        }
      ]
    },
    {
      "cell_type": "code",
      "source": [
        "df.describe()"
      ],
      "metadata": {
        "colab": {
          "base_uri": "https://localhost:8080/",
          "height": 300
        },
        "id": "RMeoWamW6fl6",
        "outputId": "cf471cda-7dbf-46f6-f7ae-9c2789e758b1"
      },
      "execution_count": null,
      "outputs": [
        {
          "output_type": "execute_result",
          "data": {
            "text/plain": [
              "        enrollee_id  city_development_index    experience  training_hours  \\\n",
              "count  19158.000000            18679.000000  19093.000000    18392.000000   \n",
              "mean   16875.358179                0.828951      9.928036       65.185787   \n",
              "std     9616.292592                0.123334      6.505268       59.885626   \n",
              "min        1.000000                0.448000      0.000000        1.000000   \n",
              "25%     8554.250000                0.740000      4.000000       23.000000   \n",
              "50%    16982.500000                0.903000      9.000000       47.000000   \n",
              "75%    25169.750000                0.920000     16.000000       88.000000   \n",
              "max    33380.000000                0.949000     20.000000      336.000000   \n",
              "\n",
              "             target  \n",
              "count  19158.000000  \n",
              "mean       0.249348  \n",
              "std        0.432647  \n",
              "min        0.000000  \n",
              "25%        0.000000  \n",
              "50%        0.000000  \n",
              "75%        0.000000  \n",
              "max        1.000000  "
            ],
            "text/html": [
              "\n",
              "  <div id=\"df-639ca934-bffd-4e74-bc0d-05e3e0e3bdea\" class=\"colab-df-container\">\n",
              "    <div>\n",
              "<style scoped>\n",
              "    .dataframe tbody tr th:only-of-type {\n",
              "        vertical-align: middle;\n",
              "    }\n",
              "\n",
              "    .dataframe tbody tr th {\n",
              "        vertical-align: top;\n",
              "    }\n",
              "\n",
              "    .dataframe thead th {\n",
              "        text-align: right;\n",
              "    }\n",
              "</style>\n",
              "<table border=\"1\" class=\"dataframe\">\n",
              "  <thead>\n",
              "    <tr style=\"text-align: right;\">\n",
              "      <th></th>\n",
              "      <th>enrollee_id</th>\n",
              "      <th>city_development_index</th>\n",
              "      <th>experience</th>\n",
              "      <th>training_hours</th>\n",
              "      <th>target</th>\n",
              "    </tr>\n",
              "  </thead>\n",
              "  <tbody>\n",
              "    <tr>\n",
              "      <th>count</th>\n",
              "      <td>19158.000000</td>\n",
              "      <td>18679.000000</td>\n",
              "      <td>19093.000000</td>\n",
              "      <td>18392.000000</td>\n",
              "      <td>19158.000000</td>\n",
              "    </tr>\n",
              "    <tr>\n",
              "      <th>mean</th>\n",
              "      <td>16875.358179</td>\n",
              "      <td>0.828951</td>\n",
              "      <td>9.928036</td>\n",
              "      <td>65.185787</td>\n",
              "      <td>0.249348</td>\n",
              "    </tr>\n",
              "    <tr>\n",
              "      <th>std</th>\n",
              "      <td>9616.292592</td>\n",
              "      <td>0.123334</td>\n",
              "      <td>6.505268</td>\n",
              "      <td>59.885626</td>\n",
              "      <td>0.432647</td>\n",
              "    </tr>\n",
              "    <tr>\n",
              "      <th>min</th>\n",
              "      <td>1.000000</td>\n",
              "      <td>0.448000</td>\n",
              "      <td>0.000000</td>\n",
              "      <td>1.000000</td>\n",
              "      <td>0.000000</td>\n",
              "    </tr>\n",
              "    <tr>\n",
              "      <th>25%</th>\n",
              "      <td>8554.250000</td>\n",
              "      <td>0.740000</td>\n",
              "      <td>4.000000</td>\n",
              "      <td>23.000000</td>\n",
              "      <td>0.000000</td>\n",
              "    </tr>\n",
              "    <tr>\n",
              "      <th>50%</th>\n",
              "      <td>16982.500000</td>\n",
              "      <td>0.903000</td>\n",
              "      <td>9.000000</td>\n",
              "      <td>47.000000</td>\n",
              "      <td>0.000000</td>\n",
              "    </tr>\n",
              "    <tr>\n",
              "      <th>75%</th>\n",
              "      <td>25169.750000</td>\n",
              "      <td>0.920000</td>\n",
              "      <td>16.000000</td>\n",
              "      <td>88.000000</td>\n",
              "      <td>0.000000</td>\n",
              "    </tr>\n",
              "    <tr>\n",
              "      <th>max</th>\n",
              "      <td>33380.000000</td>\n",
              "      <td>0.949000</td>\n",
              "      <td>20.000000</td>\n",
              "      <td>336.000000</td>\n",
              "      <td>1.000000</td>\n",
              "    </tr>\n",
              "  </tbody>\n",
              "</table>\n",
              "</div>\n",
              "    <div class=\"colab-df-buttons\">\n",
              "\n",
              "  <div class=\"colab-df-container\">\n",
              "    <button class=\"colab-df-convert\" onclick=\"convertToInteractive('df-639ca934-bffd-4e74-bc0d-05e3e0e3bdea')\"\n",
              "            title=\"Convert this dataframe to an interactive table.\"\n",
              "            style=\"display:none;\">\n",
              "\n",
              "  <svg xmlns=\"http://www.w3.org/2000/svg\" height=\"24px\" viewBox=\"0 -960 960 960\">\n",
              "    <path d=\"M120-120v-720h720v720H120Zm60-500h600v-160H180v160Zm220 220h160v-160H400v160Zm0 220h160v-160H400v160ZM180-400h160v-160H180v160Zm440 0h160v-160H620v160ZM180-180h160v-160H180v160Zm440 0h160v-160H620v160Z\"/>\n",
              "  </svg>\n",
              "    </button>\n",
              "\n",
              "  <style>\n",
              "    .colab-df-container {\n",
              "      display:flex;\n",
              "      gap: 12px;\n",
              "    }\n",
              "\n",
              "    .colab-df-convert {\n",
              "      background-color: #E8F0FE;\n",
              "      border: none;\n",
              "      border-radius: 50%;\n",
              "      cursor: pointer;\n",
              "      display: none;\n",
              "      fill: #1967D2;\n",
              "      height: 32px;\n",
              "      padding: 0 0 0 0;\n",
              "      width: 32px;\n",
              "    }\n",
              "\n",
              "    .colab-df-convert:hover {\n",
              "      background-color: #E2EBFA;\n",
              "      box-shadow: 0px 1px 2px rgba(60, 64, 67, 0.3), 0px 1px 3px 1px rgba(60, 64, 67, 0.15);\n",
              "      fill: #174EA6;\n",
              "    }\n",
              "\n",
              "    .colab-df-buttons div {\n",
              "      margin-bottom: 4px;\n",
              "    }\n",
              "\n",
              "    [theme=dark] .colab-df-convert {\n",
              "      background-color: #3B4455;\n",
              "      fill: #D2E3FC;\n",
              "    }\n",
              "\n",
              "    [theme=dark] .colab-df-convert:hover {\n",
              "      background-color: #434B5C;\n",
              "      box-shadow: 0px 1px 3px 1px rgba(0, 0, 0, 0.15);\n",
              "      filter: drop-shadow(0px 1px 2px rgba(0, 0, 0, 0.3));\n",
              "      fill: #FFFFFF;\n",
              "    }\n",
              "  </style>\n",
              "\n",
              "    <script>\n",
              "      const buttonEl =\n",
              "        document.querySelector('#df-639ca934-bffd-4e74-bc0d-05e3e0e3bdea button.colab-df-convert');\n",
              "      buttonEl.style.display =\n",
              "        google.colab.kernel.accessAllowed ? 'block' : 'none';\n",
              "\n",
              "      async function convertToInteractive(key) {\n",
              "        const element = document.querySelector('#df-639ca934-bffd-4e74-bc0d-05e3e0e3bdea');\n",
              "        const dataTable =\n",
              "          await google.colab.kernel.invokeFunction('convertToInteractive',\n",
              "                                                    [key], {});\n",
              "        if (!dataTable) return;\n",
              "\n",
              "        const docLinkHtml = 'Like what you see? Visit the ' +\n",
              "          '<a target=\"_blank\" href=https://colab.research.google.com/notebooks/data_table.ipynb>data table notebook</a>'\n",
              "          + ' to learn more about interactive tables.';\n",
              "        element.innerHTML = '';\n",
              "        dataTable['output_type'] = 'display_data';\n",
              "        await google.colab.output.renderOutput(dataTable, element);\n",
              "        const docLink = document.createElement('div');\n",
              "        docLink.innerHTML = docLinkHtml;\n",
              "        element.appendChild(docLink);\n",
              "      }\n",
              "    </script>\n",
              "  </div>\n",
              "\n",
              "\n",
              "<div id=\"df-4cd28d03-a3db-48b8-86b4-46e2ad8388e4\">\n",
              "  <button class=\"colab-df-quickchart\" onclick=\"quickchart('df-4cd28d03-a3db-48b8-86b4-46e2ad8388e4')\"\n",
              "            title=\"Suggest charts\"\n",
              "            style=\"display:none;\">\n",
              "\n",
              "<svg xmlns=\"http://www.w3.org/2000/svg\" height=\"24px\"viewBox=\"0 0 24 24\"\n",
              "     width=\"24px\">\n",
              "    <g>\n",
              "        <path d=\"M19 3H5c-1.1 0-2 .9-2 2v14c0 1.1.9 2 2 2h14c1.1 0 2-.9 2-2V5c0-1.1-.9-2-2-2zM9 17H7v-7h2v7zm4 0h-2V7h2v10zm4 0h-2v-4h2v4z\"/>\n",
              "    </g>\n",
              "</svg>\n",
              "  </button>\n",
              "\n",
              "<style>\n",
              "  .colab-df-quickchart {\n",
              "      --bg-color: #E8F0FE;\n",
              "      --fill-color: #1967D2;\n",
              "      --hover-bg-color: #E2EBFA;\n",
              "      --hover-fill-color: #174EA6;\n",
              "      --disabled-fill-color: #AAA;\n",
              "      --disabled-bg-color: #DDD;\n",
              "  }\n",
              "\n",
              "  [theme=dark] .colab-df-quickchart {\n",
              "      --bg-color: #3B4455;\n",
              "      --fill-color: #D2E3FC;\n",
              "      --hover-bg-color: #434B5C;\n",
              "      --hover-fill-color: #FFFFFF;\n",
              "      --disabled-bg-color: #3B4455;\n",
              "      --disabled-fill-color: #666;\n",
              "  }\n",
              "\n",
              "  .colab-df-quickchart {\n",
              "    background-color: var(--bg-color);\n",
              "    border: none;\n",
              "    border-radius: 50%;\n",
              "    cursor: pointer;\n",
              "    display: none;\n",
              "    fill: var(--fill-color);\n",
              "    height: 32px;\n",
              "    padding: 0;\n",
              "    width: 32px;\n",
              "  }\n",
              "\n",
              "  .colab-df-quickchart:hover {\n",
              "    background-color: var(--hover-bg-color);\n",
              "    box-shadow: 0 1px 2px rgba(60, 64, 67, 0.3), 0 1px 3px 1px rgba(60, 64, 67, 0.15);\n",
              "    fill: var(--button-hover-fill-color);\n",
              "  }\n",
              "\n",
              "  .colab-df-quickchart-complete:disabled,\n",
              "  .colab-df-quickchart-complete:disabled:hover {\n",
              "    background-color: var(--disabled-bg-color);\n",
              "    fill: var(--disabled-fill-color);\n",
              "    box-shadow: none;\n",
              "  }\n",
              "\n",
              "  .colab-df-spinner {\n",
              "    border: 2px solid var(--fill-color);\n",
              "    border-color: transparent;\n",
              "    border-bottom-color: var(--fill-color);\n",
              "    animation:\n",
              "      spin 1s steps(1) infinite;\n",
              "  }\n",
              "\n",
              "  @keyframes spin {\n",
              "    0% {\n",
              "      border-color: transparent;\n",
              "      border-bottom-color: var(--fill-color);\n",
              "      border-left-color: var(--fill-color);\n",
              "    }\n",
              "    20% {\n",
              "      border-color: transparent;\n",
              "      border-left-color: var(--fill-color);\n",
              "      border-top-color: var(--fill-color);\n",
              "    }\n",
              "    30% {\n",
              "      border-color: transparent;\n",
              "      border-left-color: var(--fill-color);\n",
              "      border-top-color: var(--fill-color);\n",
              "      border-right-color: var(--fill-color);\n",
              "    }\n",
              "    40% {\n",
              "      border-color: transparent;\n",
              "      border-right-color: var(--fill-color);\n",
              "      border-top-color: var(--fill-color);\n",
              "    }\n",
              "    60% {\n",
              "      border-color: transparent;\n",
              "      border-right-color: var(--fill-color);\n",
              "    }\n",
              "    80% {\n",
              "      border-color: transparent;\n",
              "      border-right-color: var(--fill-color);\n",
              "      border-bottom-color: var(--fill-color);\n",
              "    }\n",
              "    90% {\n",
              "      border-color: transparent;\n",
              "      border-bottom-color: var(--fill-color);\n",
              "    }\n",
              "  }\n",
              "</style>\n",
              "\n",
              "  <script>\n",
              "    async function quickchart(key) {\n",
              "      const quickchartButtonEl =\n",
              "        document.querySelector('#' + key + ' button');\n",
              "      quickchartButtonEl.disabled = true;  // To prevent multiple clicks.\n",
              "      quickchartButtonEl.classList.add('colab-df-spinner');\n",
              "      try {\n",
              "        const charts = await google.colab.kernel.invokeFunction(\n",
              "            'suggestCharts', [key], {});\n",
              "      } catch (error) {\n",
              "        console.error('Error during call to suggestCharts:', error);\n",
              "      }\n",
              "      quickchartButtonEl.classList.remove('colab-df-spinner');\n",
              "      quickchartButtonEl.classList.add('colab-df-quickchart-complete');\n",
              "    }\n",
              "    (() => {\n",
              "      let quickchartButtonEl =\n",
              "        document.querySelector('#df-4cd28d03-a3db-48b8-86b4-46e2ad8388e4 button');\n",
              "      quickchartButtonEl.style.display =\n",
              "        google.colab.kernel.accessAllowed ? 'block' : 'none';\n",
              "    })();\n",
              "  </script>\n",
              "</div>\n",
              "\n",
              "    </div>\n",
              "  </div>\n"
            ],
            "application/vnd.google.colaboratory.intrinsic+json": {
              "type": "dataframe",
              "summary": "{\n  \"name\": \"df\",\n  \"rows\": 8,\n  \"fields\": [\n    {\n      \"column\": \"enrollee_id\",\n      \"properties\": {\n        \"dtype\": \"number\",\n        \"std\": 10348.46393008357,\n        \"min\": 1.0,\n        \"max\": 33380.0,\n        \"num_unique_values\": 8,\n        \"samples\": [\n          16875.358179350664,\n          16982.5,\n          19158.0\n        ],\n        \"semantic_type\": \"\",\n        \"description\": \"\"\n      }\n    },\n    {\n      \"column\": \"city_development_index\",\n      \"properties\": {\n        \"dtype\": \"number\",\n        \"std\": 6603.775681137095,\n        \"min\": 0.12333440178808346,\n        \"max\": 18679.0,\n        \"num_unique_values\": 8,\n        \"samples\": [\n          0.8289509074361583,\n          0.903,\n          18679.0\n        ],\n        \"semantic_type\": \"\",\n        \"description\": \"\"\n      }\n    },\n    {\n      \"column\": \"experience\",\n      \"properties\": {\n        \"dtype\": \"number\",\n        \"std\": 6747.09299357277,\n        \"min\": 0.0,\n        \"max\": 19093.0,\n        \"num_unique_values\": 8,\n        \"samples\": [\n          9.92803645315037,\n          9.0,\n          19093.0\n        ],\n        \"semantic_type\": \"\",\n        \"description\": \"\"\n      }\n    },\n    {\n      \"column\": \"training_hours\",\n      \"properties\": {\n        \"dtype\": \"number\",\n        \"std\": 6472.0776201346025,\n        \"min\": 1.0,\n        \"max\": 18392.0,\n        \"num_unique_values\": 8,\n        \"samples\": [\n          65.18578729882557,\n          47.0,\n          18392.0\n        ],\n        \"semantic_type\": \"\",\n        \"description\": \"\"\n      }\n    },\n    {\n      \"column\": \"target\",\n      \"properties\": {\n        \"dtype\": \"number\",\n        \"std\": 6773.290912364783,\n        \"min\": 0.0,\n        \"max\": 19158.0,\n        \"num_unique_values\": 5,\n        \"samples\": [\n          0.24934753105752167,\n          1.0,\n          0.4326466344562528\n        ],\n        \"semantic_type\": \"\",\n        \"description\": \"\"\n      }\n    }\n  ]\n}"
            }
          },
          "metadata": {},
          "execution_count": 106
        }
      ]
    },
    {
      "cell_type": "code",
      "source": [
        "print(df.dtypes)"
      ],
      "metadata": {
        "colab": {
          "base_uri": "https://localhost:8080/"
        },
        "id": "zQG_rYmks_0-",
        "outputId": "7cd256e6-8d4b-434b-a7ee-36602d0b8d20"
      },
      "execution_count": null,
      "outputs": [
        {
          "output_type": "stream",
          "name": "stdout",
          "text": [
            "enrollee_id                 int64\n",
            "city                       object\n",
            "city_development_index    float64\n",
            "gender                     object\n",
            "relevent_experience        object\n",
            "enrolled_university        object\n",
            "education_level            object\n",
            "major_discipline           object\n",
            "experience                float64\n",
            "company_size               object\n",
            "company_type               object\n",
            "training_hours            float64\n",
            "target                    float64\n",
            "dtype: object\n"
          ]
        }
      ]
    },
    {
      "cell_type": "markdown",
      "source": [
        "# *Section: 1"
      ],
      "metadata": {
        "id": "EDv2BErHsPw9"
      }
    },
    {
      "cell_type": "markdown",
      "source": [
        "\n",
        "\n",
        "1.   ***What is the shape of the data?***\n",
        "\n"
      ],
      "metadata": {
        "id": "OTFNHsNv6kah"
      }
    },
    {
      "cell_type": "code",
      "source": [
        "print(df.shape)"
      ],
      "metadata": {
        "colab": {
          "base_uri": "https://localhost:8080/"
        },
        "id": "TqTDnsz56sXW",
        "outputId": "1b2ddc34-7038-4a93-b0e6-524aa90ff797"
      },
      "execution_count": null,
      "outputs": [
        {
          "output_type": "stream",
          "name": "stdout",
          "text": [
            "(19158, 13)\n"
          ]
        }
      ]
    },
    {
      "cell_type": "markdown",
      "source": [
        "\n",
        "2.   ***Does it contain missing values?***\n",
        "\n"
      ],
      "metadata": {
        "id": "O0SL_qen6v5s"
      }
    },
    {
      "cell_type": "code",
      "source": [
        "# Get unique values\n",
        "r =df.index.is_unique\n",
        "print(\"Does it contain missing values?\\n\",r,\"\\n\")\n",
        "#find and print all contain missing values\n",
        "print(\"the missing values Are : \\n\",df.isnull().sum())\n"
      ],
      "metadata": {
        "colab": {
          "base_uri": "https://localhost:8080/"
        },
        "id": "Wk0s1jDk61QX",
        "outputId": "379db547-888a-461f-9e20-810d60b59ad7"
      },
      "execution_count": null,
      "outputs": [
        {
          "output_type": "stream",
          "name": "stdout",
          "text": [
            "Does it contain missing values?\n",
            " True \n",
            "\n",
            "the missing values Are : \n",
            " enrollee_id                  0\n",
            "city                         0\n",
            "city_development_index     479\n",
            "gender                    4508\n",
            "relevent_experience          0\n",
            "enrolled_university        386\n",
            "education_level            460\n",
            "major_discipline          2813\n",
            "experience                  65\n",
            "company_size              5938\n",
            "company_type              6140\n",
            "training_hours             766\n",
            "target                       0\n",
            "dtype: int64\n"
          ]
        }
      ]
    },
    {
      "cell_type": "markdown",
      "source": [
        "\n",
        "\n",
        "3.  ***Which features are numerical, and which are nominal, and which are ordinal ?***\n",
        "\n",
        "\n",
        "\n"
      ],
      "metadata": {
        "id": "AbiLGneH7XXo"
      }
    },
    {
      "cell_type": "markdown",
      "source": [
        "**fuction that specify a variable**"
      ],
      "metadata": {
        "id": "s3lQPP2u7sLp"
      }
    },
    {
      "cell_type": "code",
      "source": [
        "def identify_feature_types(df):\n",
        "    feature_types = {\n",
        "        \"numerical\": [],\n",
        "        \"nominal\": [],\n",
        "    }\n",
        "\n",
        "    for feature in df.columns:\n",
        "        # Check for numerical data types\n",
        "        if pd.api.types.is_numeric_dtype(df[feature]):\n",
        "            feature_types[\"numerical\"].append(feature)\n",
        "        # Check for nominal data (object type with limited number of unique categories)\n",
        "        elif pd.api.types.is_object_dtype(df[feature]):\n",
        "            unique_values = df[feature].unique()\n",
        "            if len(unique_values) <= 10 and not all(isinstance(v, str) for v in unique_values):\n",
        "                feature_types[\"nominal\"].append(feature)\n",
        "\n",
        "\n",
        "    return feature_types"
      ],
      "metadata": {
        "id": "kx_xNATt7wIg"
      },
      "execution_count": null,
      "outputs": []
    },
    {
      "cell_type": "code",
      "source": [
        "# Call the function to identify feature types\n",
        "feature_types = identify_feature_types(df)"
      ],
      "metadata": {
        "id": "wZvo71E873uL"
      },
      "execution_count": null,
      "outputs": []
    },
    {
      "cell_type": "markdown",
      "source": [
        "**print the result of fuction:**"
      ],
      "metadata": {
        "id": "AvUmkxhT7zYk"
      }
    },
    {
      "cell_type": "code",
      "source": [
        "print(\"Numerical Features:\")\n",
        "print(feature_types[\"numerical\"])\n"
      ],
      "metadata": {
        "colab": {
          "base_uri": "https://localhost:8080/"
        },
        "id": "4FrG5-w9tRay",
        "outputId": "9bff3698-0ef3-4131-a3ec-cf5512385b53"
      },
      "execution_count": null,
      "outputs": [
        {
          "output_type": "stream",
          "name": "stdout",
          "text": [
            "Numerical Features:\n",
            "['enrollee_id', 'city_development_index', 'experience', 'training_hours', 'target']\n"
          ]
        }
      ]
    },
    {
      "cell_type": "code",
      "source": [
        "print(\"\\n Nominal Features:\")\n",
        "print(feature_types[\"nominal\"])"
      ],
      "metadata": {
        "colab": {
          "base_uri": "https://localhost:8080/"
        },
        "id": "rY8IQDhotUmq",
        "outputId": "b46ef76b-5f77-438c-f1ee-ff7a7340847e"
      },
      "execution_count": null,
      "outputs": [
        {
          "output_type": "stream",
          "name": "stdout",
          "text": [
            "\n",
            " Nominal Features:\n",
            "['gender', 'enrolled_university', 'education_level', 'major_discipline', 'company_size', 'company_type']\n"
          ]
        }
      ]
    },
    {
      "cell_type": "markdown",
      "source": [
        "**The correct Answers :**"
      ],
      "metadata": {
        "id": "ScBtVf3D0ONF"
      }
    },
    {
      "cell_type": "markdown",
      "source": [
        "\n",
        "\n",
        "*   **Numerical Features:**\n",
        "\n",
        "\n",
        "[ 'city_development_index', 'experience', 'training_hours', 'target']"
      ],
      "metadata": {
        "id": "cMAOxJUky57R"
      }
    },
    {
      "cell_type": "markdown",
      "source": [
        "\n",
        "\n",
        "*   **Nominal Features:**\n",
        "\n",
        "\n",
        "['City','enrollee_id','gender', 'enrolled_university', 'major_discipline',  'company_type','Relevant Experience']\n"
      ],
      "metadata": {
        "id": "cFFAMseUyr2P"
      }
    },
    {
      "cell_type": "markdown",
      "source": [
        "\n",
        "\n",
        "*   **Ordinal Features :**\n",
        "\n",
        "\n",
        "[ 'Education_level' ,'company_size' ]"
      ],
      "metadata": {
        "id": "4M7ZCSRMtjhX"
      }
    },
    {
      "cell_type": "markdown",
      "source": [
        "# Section: 2\n",
        "**Select two numerical features and:**"
      ],
      "metadata": {
        "id": "OIfKqFVb7_HE"
      }
    },
    {
      "cell_type": "code",
      "source": [
        "numerical_features = [\"experience\", \"training_hours\"]"
      ],
      "metadata": {
        "id": "rL7BCWeX8U3y"
      },
      "execution_count": null,
      "outputs": []
    },
    {
      "cell_type": "markdown",
      "source": [
        "***1.   Show their descriptive statistics, add  interpretation on each feature***"
      ],
      "metadata": {
        "id": "ZbH2U0QS8nwG"
      }
    },
    {
      "cell_type": "markdown",
      "source": [
        "*   **Descriptive statistics for experience**"
      ],
      "metadata": {
        "id": "bpG8uPCM8rFZ"
      }
    },
    {
      "cell_type": "code",
      "source": [
        "# Descriptive statistics for loves_count\n",
        "print(df[\"experience\"].describe())"
      ],
      "metadata": {
        "colab": {
          "base_uri": "https://localhost:8080/"
        },
        "id": "b5cRlBMF8tzq",
        "outputId": "cf212730-b36d-4dd4-9d36-e4a067b36658"
      },
      "execution_count": null,
      "outputs": [
        {
          "output_type": "stream",
          "name": "stdout",
          "text": [
            "count    19093.000000\n",
            "mean         9.928036\n",
            "std          6.505268\n",
            "min          0.000000\n",
            "25%          4.000000\n",
            "50%          9.000000\n",
            "75%         16.000000\n",
            "max         20.000000\n",
            "Name: experience, dtype: float64\n"
          ]
        }
      ]
    },
    {
      "cell_type": "code",
      "source": [
        "# Price distribution visualization (histogram)\n",
        "plt.hist(df[\"experience\"])\n",
        "plt.xlabel(\"experience\")\n",
        "plt.ylabel(\"frequancy\")\n",
        "plt.title(\"experience Distribution\")\n",
        "plt.show()"
      ],
      "metadata": {
        "colab": {
          "base_uri": "https://localhost:8080/",
          "height": 472
        },
        "id": "wV7MLuuO81Pa",
        "outputId": "04ba7c8a-a5de-46e4-e3ae-693749bfa2e4"
      },
      "execution_count": null,
      "outputs": [
        {
          "output_type": "display_data",
          "data": {
            "text/plain": [
              "<Figure size 640x480 with 1 Axes>"
            ],
            "image/png": "[encoded data removed]"
          },
          "metadata": {}
        }
      ]
    },
    {
      "cell_type": "markdown",
      "source": [
        "*   **Descriptive statistics for sale training_hours**\n"
      ],
      "metadata": {
        "id": "1shVMRJP9C6h"
      }
    },
    {
      "cell_type": "code",
      "source": [
        "# Descriptive statistics for price\n",
        "print(df[\"training_hours\"].describe())"
      ],
      "metadata": {
        "colab": {
          "base_uri": "https://localhost:8080/"
        },
        "id": "Rg4EXj9v9HB8",
        "outputId": "45cbde34-ac64-4e75-deb1-72d75fe5f7ab"
      },
      "execution_count": null,
      "outputs": [
        {
          "output_type": "stream",
          "name": "stdout",
          "text": [
            "count    18392.000000\n",
            "mean        65.185787\n",
            "std         59.885626\n",
            "min          1.000000\n",
            "25%         23.000000\n",
            "50%         47.000000\n",
            "75%         88.000000\n",
            "max        336.000000\n",
            "Name: training_hours, dtype: float64\n"
          ]
        }
      ]
    },
    {
      "cell_type": "code",
      "source": [
        "# Price distribution visualization (histogram)\n",
        "plt.hist(df[\"training_hours\"])\n",
        "plt.xlabel(\"training_hours\")\n",
        "plt.ylabel(\"FREQUANCY\")\n",
        "plt.title(\"training_hours Distribution\")\n",
        "plt.show()"
      ],
      "metadata": {
        "colab": {
          "base_uri": "https://localhost:8080/",
          "height": 472
        },
        "id": "2QPIq0sJ9QSp",
        "outputId": "4402d329-3049-4872-80a0-818ef66c31ea"
      },
      "execution_count": null,
      "outputs": [
        {
          "output_type": "display_data",
          "data": {
            "text/plain": [
              "<Figure size 640x480 with 1 Axes>"
            ],
            "image/png": "[encoded data removed]"
          },
          "metadata": {}
        }
      ]
    },
    {
      "cell_type": "markdown",
      "source": [
        "*   **descriptive statistics for them**\n"
      ],
      "metadata": {
        "id": "ITtRvg9k9Z5O"
      }
    },
    {
      "cell_type": "code",
      "source": [
        "df[numerical_features].describe()"
      ],
      "metadata": {
        "colab": {
          "base_uri": "https://localhost:8080/",
          "height": 300
        },
        "id": "H6n9S6vq9eMf",
        "outputId": "8bd29227-83c8-4b5b-9a56-e88938ef41b4"
      },
      "execution_count": null,
      "outputs": [
        {
          "output_type": "execute_result",
          "data": {
            "text/plain": [
              "         experience  training_hours\n",
              "count  19093.000000    18392.000000\n",
              "mean       9.928036       65.185787\n",
              "std        6.505268       59.885626\n",
              "min        0.000000        1.000000\n",
              "25%        4.000000       23.000000\n",
              "50%        9.000000       47.000000\n",
              "75%       16.000000       88.000000\n",
              "max       20.000000      336.000000"
            ],
            "text/html": [
              "\n",
              "  <div id=\"df-6d358f8e-6790-4f20-9de3-dd785994c4d7\" class=\"colab-df-container\">\n",
              "    <div>\n",
              "<style scoped>\n",
              "    .dataframe tbody tr th:only-of-type {\n",
              "        vertical-align: middle;\n",
              "    }\n",
              "\n",
              "    .dataframe tbody tr th {\n",
              "        vertical-align: top;\n",
              "    }\n",
              "\n",
              "    .dataframe thead th {\n",
              "        text-align: right;\n",
              "    }\n",
              "</style>\n",
              "<table border=\"1\" class=\"dataframe\">\n",
              "  <thead>\n",
              "    <tr style=\"text-align: right;\">\n",
              "      <th></th>\n",
              "      <th>experience</th>\n",
              "      <th>training_hours</th>\n",
              "    </tr>\n",
              "  </thead>\n",
              "  <tbody>\n",
              "    <tr>\n",
              "      <th>count</th>\n",
              "      <td>19093.000000</td>\n",
              "      <td>18392.000000</td>\n",
              "    </tr>\n",
              "    <tr>\n",
              "      <th>mean</th>\n",
              "      <td>9.928036</td>\n",
              "      <td>65.185787</td>\n",
              "    </tr>\n",
              "    <tr>\n",
              "      <th>std</th>\n",
              "      <td>6.505268</td>\n",
              "      <td>59.885626</td>\n",
              "    </tr>\n",
              "    <tr>\n",
              "      <th>min</th>\n",
              "      <td>0.000000</td>\n",
              "      <td>1.000000</td>\n",
              "    </tr>\n",
              "    <tr>\n",
              "      <th>25%</th>\n",
              "      <td>4.000000</td>\n",
              "      <td>23.000000</td>\n",
              "    </tr>\n",
              "    <tr>\n",
              "      <th>50%</th>\n",
              "      <td>9.000000</td>\n",
              "      <td>47.000000</td>\n",
              "    </tr>\n",
              "    <tr>\n",
              "      <th>75%</th>\n",
              "      <td>16.000000</td>\n",
              "      <td>88.000000</td>\n",
              "    </tr>\n",
              "    <tr>\n",
              "      <th>max</th>\n",
              "      <td>20.000000</td>\n",
              "      <td>336.000000</td>\n",
              "    </tr>\n",
              "  </tbody>\n",
              "</table>\n",
              "</div>\n",
              "    <div class=\"colab-df-buttons\">\n",
              "\n",
              "  <div class=\"colab-df-container\">\n",
              "    <button class=\"colab-df-convert\" onclick=\"convertToInteractive('df-6d358f8e-6790-4f20-9de3-dd785994c4d7')\"\n",
              "            title=\"Convert this dataframe to an interactive table.\"\n",
              "            style=\"display:none;\">\n",
              "\n",
              "  <svg xmlns=\"http://www.w3.org/2000/svg\" height=\"24px\" viewBox=\"0 -960 960 960\">\n",
              "    <path d=\"M120-120v-720h720v720H120Zm60-500h600v-160H180v160Zm220 220h160v-160H400v160Zm0 220h160v-160H400v160ZM180-400h160v-160H180v160Zm440 0h160v-160H620v160ZM180-180h160v-160H180v160Zm440 0h160v-160H620v160Z\"/>\n",
              "  </svg>\n",
              "    </button>\n",
              "\n",
              "  <style>\n",
              "    .colab-df-container {\n",
              "      display:flex;\n",
              "      gap: 12px;\n",
              "    }\n",
              "\n",
              "    .colab-df-convert {\n",
              "      background-color: #E8F0FE;\n",
              "      border: none;\n",
              "      border-radius: 50%;\n",
              "      cursor: pointer;\n",
              "      display: none;\n",
              "      fill: #1967D2;\n",
              "      height: 32px;\n",
              "      padding: 0 0 0 0;\n",
              "      width: 32px;\n",
              "    }\n",
              "\n",
              "    .colab-df-convert:hover {\n",
              "      background-color: #E2EBFA;\n",
              "      box-shadow: 0px 1px 2px rgba(60, 64, 67, 0.3), 0px 1px 3px 1px rgba(60, 64, 67, 0.15);\n",
              "      fill: #174EA6;\n",
              "    }\n",
              "\n",
              "    .colab-df-buttons div {\n",
              "      margin-bottom: 4px;\n",
              "    }\n",
              "\n",
              "    [theme=dark] .colab-df-convert {\n",
              "      background-color: #3B4455;\n",
              "      fill: #D2E3FC;\n",
              "    }\n",
              "\n",
              "    [theme=dark] .colab-df-convert:hover {\n",
              "      background-color: #434B5C;\n",
              "      box-shadow: 0px 1px 3px 1px rgba(0, 0, 0, 0.15);\n",
              "      filter: drop-shadow(0px 1px 2px rgba(0, 0, 0, 0.3));\n",
              "      fill: #FFFFFF;\n",
              "    }\n",
              "  </style>\n",
              "\n",
              "    <script>\n",
              "      const buttonEl =\n",
              "        document.querySelector('#df-6d358f8e-6790-4f20-9de3-dd785994c4d7 button.colab-df-convert');\n",
              "      buttonEl.style.display =\n",
              "        google.colab.kernel.accessAllowed ? 'block' : 'none';\n",
              "\n",
              "      async function convertToInteractive(key) {\n",
              "        const element = document.querySelector('#df-6d358f8e-6790-4f20-9de3-dd785994c4d7');\n",
              "        const dataTable =\n",
              "          await google.colab.kernel.invokeFunction('convertToInteractive',\n",
              "                                                    [key], {});\n",
              "        if (!dataTable) return;\n",
              "\n",
              "        const docLinkHtml = 'Like what you see? Visit the ' +\n",
              "          '<a target=\"_blank\" href=https://colab.research.google.com/notebooks/data_table.ipynb>data table notebook</a>'\n",
              "          + ' to learn more about interactive tables.';\n",
              "        element.innerHTML = '';\n",
              "        dataTable['output_type'] = 'display_data';\n",
              "        await google.colab.output.renderOutput(dataTable, element);\n",
              "        const docLink = document.createElement('div');\n",
              "        docLink.innerHTML = docLinkHtml;\n",
              "        element.appendChild(docLink);\n",
              "      }\n",
              "    </script>\n",
              "  </div>\n",
              "\n",
              "\n",
              "<div id=\"df-fd9c4815-8ab6-4fde-adf5-42e9202e9766\">\n",
              "  <button class=\"colab-df-quickchart\" onclick=\"quickchart('df-fd9c4815-8ab6-4fde-adf5-42e9202e9766')\"\n",
              "            title=\"Suggest charts\"\n",
              "            style=\"display:none;\">\n",
              "\n",
              "<svg xmlns=\"http://www.w3.org/2000/svg\" height=\"24px\"viewBox=\"0 0 24 24\"\n",
              "     width=\"24px\">\n",
              "    <g>\n",
              "        <path d=\"M19 3H5c-1.1 0-2 .9-2 2v14c0 1.1.9 2 2 2h14c1.1 0 2-.9 2-2V5c0-1.1-.9-2-2-2zM9 17H7v-7h2v7zm4 0h-2V7h2v10zm4 0h-2v-4h2v4z\"/>\n",
              "    </g>\n",
              "</svg>\n",
              "  </button>\n",
              "\n",
              "<style>\n",
              "  .colab-df-quickchart {\n",
              "      --bg-color: #E8F0FE;\n",
              "      --fill-color: #1967D2;\n",
              "      --hover-bg-color: #E2EBFA;\n",
              "      --hover-fill-color: #174EA6;\n",
              "      --disabled-fill-color: #AAA;\n",
              "      --disabled-bg-color: #DDD;\n",
              "  }\n",
              "\n",
              "  [theme=dark] .colab-df-quickchart {\n",
              "      --bg-color: #3B4455;\n",
              "      --fill-color: #D2E3FC;\n",
              "      --hover-bg-color: #434B5C;\n",
              "      --hover-fill-color: #FFFFFF;\n",
              "      --disabled-bg-color: #3B4455;\n",
              "      --disabled-fill-color: #666;\n",
              "  }\n",
              "\n",
              "  .colab-df-quickchart {\n",
              "    background-color: var(--bg-color);\n",
              "    border: none;\n",
              "    border-radius: 50%;\n",
              "    cursor: pointer;\n",
              "    display: none;\n",
              "    fill: var(--fill-color);\n",
              "    height: 32px;\n",
              "    padding: 0;\n",
              "    width: 32px;\n",
              "  }\n",
              "\n",
              "  .colab-df-quickchart:hover {\n",
              "    background-color: var(--hover-bg-color);\n",
              "    box-shadow: 0 1px 2px rgba(60, 64, 67, 0.3), 0 1px 3px 1px rgba(60, 64, 67, 0.15);\n",
              "    fill: var(--button-hover-fill-color);\n",
              "  }\n",
              "\n",
              "  .colab-df-quickchart-complete:disabled,\n",
              "  .colab-df-quickchart-complete:disabled:hover {\n",
              "    background-color: var(--disabled-bg-color);\n",
              "    fill: var(--disabled-fill-color);\n",
              "    box-shadow: none;\n",
              "  }\n",
              "\n",
              "  .colab-df-spinner {\n",
              "    border: 2px solid var(--fill-color);\n",
              "    border-color: transparent;\n",
              "    border-bottom-color: var(--fill-color);\n",
              "    animation:\n",
              "      spin 1s steps(1) infinite;\n",
              "  }\n",
              "\n",
              "  @keyframes spin {\n",
              "    0% {\n",
              "      border-color: transparent;\n",
              "      border-bottom-color: var(--fill-color);\n",
              "      border-left-color: var(--fill-color);\n",
              "    }\n",
              "    20% {\n",
              "      border-color: transparent;\n",
              "      border-left-color: var(--fill-color);\n",
              "      border-top-color: var(--fill-color);\n",
              "    }\n",
              "    30% {\n",
              "      border-color: transparent;\n",
              "      border-left-color: var(--fill-color);\n",
              "      border-top-color: var(--fill-color);\n",
              "      border-right-color: var(--fill-color);\n",
              "    }\n",
              "    40% {\n",
              "      border-color: transparent;\n",
              "      border-right-color: var(--fill-color);\n",
              "      border-top-color: var(--fill-color);\n",
              "    }\n",
              "    60% {\n",
              "      border-color: transparent;\n",
              "      border-right-color: var(--fill-color);\n",
              "    }\n",
              "    80% {\n",
              "      border-color: transparent;\n",
              "      border-right-color: var(--fill-color);\n",
              "      border-bottom-color: var(--fill-color);\n",
              "    }\n",
              "    90% {\n",
              "      border-color: transparent;\n",
              "      border-bottom-color: var(--fill-color);\n",
              "    }\n",
              "  }\n",
              "</style>\n",
              "\n",
              "  <script>\n",
              "    async function quickchart(key) {\n",
              "      const quickchartButtonEl =\n",
              "        document.querySelector('#' + key + ' button');\n",
              "      quickchartButtonEl.disabled = true;  // To prevent multiple clicks.\n",
              "      quickchartButtonEl.classList.add('colab-df-spinner');\n",
              "      try {\n",
              "        const charts = await google.colab.kernel.invokeFunction(\n",
              "            'suggestCharts', [key], {});\n",
              "      } catch (error) {\n",
              "        console.error('Error during call to suggestCharts:', error);\n",
              "      }\n",
              "      quickchartButtonEl.classList.remove('colab-df-spinner');\n",
              "      quickchartButtonEl.classList.add('colab-df-quickchart-complete');\n",
              "    }\n",
              "    (() => {\n",
              "      let quickchartButtonEl =\n",
              "        document.querySelector('#df-fd9c4815-8ab6-4fde-adf5-42e9202e9766 button');\n",
              "      quickchartButtonEl.style.display =\n",
              "        google.colab.kernel.accessAllowed ? 'block' : 'none';\n",
              "    })();\n",
              "  </script>\n",
              "</div>\n",
              "\n",
              "    </div>\n",
              "  </div>\n"
            ],
            "application/vnd.google.colaboratory.intrinsic+json": {
              "type": "dataframe",
              "summary": "{\n  \"name\": \"df[numerical_features]\",\n  \"rows\": 8,\n  \"fields\": [\n    {\n      \"column\": \"experience\",\n      \"properties\": {\n        \"dtype\": \"number\",\n        \"std\": 6747.09299357277,\n        \"min\": 0.0,\n        \"max\": 19093.0,\n        \"num_unique_values\": 8,\n        \"samples\": [\n          9.92803645315037,\n          9.0,\n          19093.0\n        ],\n        \"semantic_type\": \"\",\n        \"description\": \"\"\n      }\n    },\n    {\n      \"column\": \"training_hours\",\n      \"properties\": {\n        \"dtype\": \"number\",\n        \"std\": 6472.0776201346025,\n        \"min\": 1.0,\n        \"max\": 18392.0,\n        \"num_unique_values\": 8,\n        \"samples\": [\n          65.18578729882557,\n          47.0,\n          18392.0\n        ],\n        \"semantic_type\": \"\",\n        \"description\": \"\"\n      }\n    }\n  ]\n}"
            }
          },
          "metadata": {},
          "execution_count": 16
        }
      ]
    },
    {
      "cell_type": "code",
      "source": [
        "# Check for existence of numerical features\n",
        "if not set(numerical_features).issubset(df.columns):\n",
        "  missing_features = set(numerical_features) - set(df.columns)\n",
        "  print(f\"Features {', '.join(missing_features)} not found in the data.\")\n",
        "else:\n",
        "  # Distribution plots with vectorized operations\n",
        "  df[numerical_features].plot.hist(subplots=True, layout=(1, 2), figsize=(10, 5))  # Adjust figsize as needed\n",
        "  plt.xlabel(\"Feature Value\")\n",
        "  plt.ylabel(\"Frequency\")\n",
        "  plt.tight_layout()  # Adjust spacing between subplots\n",
        "# Scatter plot (loves_count vs. sale_price_usd)\n",
        "  plt.scatter(df[\"experience\"], df[\"training_hours\"])\n",
        "  plt.xlabel(\"experience\")\n",
        "  plt.ylabel(\"training hours\")\n",
        "  plt.title(\"experience vs. training hours\")\n",
        "  plt.show()\n"
      ],
      "metadata": {
        "colab": {
          "base_uri": "https://localhost:8080/",
          "height": 524
        },
        "id": "C77NWPfl9izA",
        "outputId": "8dc113a9-1ab5-4a03-d7d9-0a121082c66c"
      },
      "execution_count": null,
      "outputs": [
        {
          "output_type": "display_data",
          "data": {
            "text/plain": [
              "<Figure size 1000x500 with 2 Axes>"
            ],
            "image/png": "[encoded data removed]"
          },
          "metadata": {}
        }
      ]
    },
    {
      "cell_type": "code",
      "source": [
        "# Interpretation of the two features\n",
        "for feature in numerical_features:\n",
        "    print(\"\\nInterpretation:\")\n",
        "    if feature == \"experience\":\n",
        "        print(\"  * The average employee has\", df[feature].mean(), \"years of experience.\")\n",
        "        print(\"  * There's a moderate spread of experience around the mean, indicating a mix of experience levels.\")\n",
        "    elif feature == \"training_hours\":\n",
        "        print(\"  * The average training duration is\", df[feature].mean(), \"hours.\")\n",
        "        print(\"  * There's a moderate spread, suggesting some employees received more or less training than average.\")\n",
        "    print(\"\\n\")"
      ],
      "metadata": {
        "colab": {
          "base_uri": "https://localhost:8080/"
        },
        "id": "10E6FfTv-KKU",
        "outputId": "3090a0b3-b4a6-495b-894c-87137c79b485"
      },
      "execution_count": null,
      "outputs": [
        {
          "output_type": "stream",
          "name": "stdout",
          "text": [
            "\n",
            "Interpretation:\n",
            "  * The average employee has 9.92803645315037 years of experience.\n",
            "  * There's a moderate spread of experience around the mean, indicating a mix of experience levels.\n",
            "\n",
            "\n",
            "\n",
            "Interpretation:\n",
            "  * The average training duration is 65.18578729882557 hours.\n",
            "  * There's a moderate spread, suggesting some employees received more or less training than average.\n",
            "\n",
            "\n"
          ]
        }
      ]
    },
    {
      "cell_type": "markdown",
      "source": [
        "2.   **Does they have skweness?**\n"
      ],
      "metadata": {
        "id": "lgF2Or4C_9Jg"
      }
    },
    {
      "cell_type": "code",
      "source": [
        "# Check for skewness\n",
        "skewness_result = df[numerical_features].skew()\n",
        "print(skewness_result)"
      ],
      "metadata": {
        "colab": {
          "base_uri": "https://localhost:8080/"
        },
        "id": "6JeMFbuuAA5Z",
        "outputId": "535ac071-ddf7-462f-97aa-caa6049b3ffc"
      },
      "execution_count": null,
      "outputs": [
        {
          "output_type": "stream",
          "name": "stdout",
          "text": [
            "experience        0.338826\n",
            "training_hours    1.824589\n",
            "dtype: float64\n"
          ]
        }
      ]
    },
    {
      "cell_type": "markdown",
      "source": [
        "Visualizing the relationship between experience and training hours:"
      ],
      "metadata": {
        "id": "KBaYJFU_1Ox5"
      }
    },
    {
      "cell_type": "code",
      "source": [
        "print(\"Visualizing the relationship between experience and training hours:\")\n",
        "df.plot.scatter(x=\"experience\", y=\"training_hours\")\n",
        "plt.xlabel(\"Years of Experience\")\n",
        "plt.ylabel(\"Training Hours\")\n",
        "plt.title(\"Experience vs. Training Hours\")\n",
        "plt.grid(True)  # Add gridlines\n",
        "plt.show()"
      ],
      "metadata": {
        "colab": {
          "base_uri": "https://localhost:8080/",
          "height": 490
        },
        "id": "oUJE40K5BgB2",
        "outputId": "e2e54399-2fd6-4fce-82f1-6b01b3a1df50"
      },
      "execution_count": null,
      "outputs": [
        {
          "output_type": "stream",
          "name": "stdout",
          "text": [
            "Visualizing the relationship between experience and training hours:\n"
          ]
        },
        {
          "output_type": "display_data",
          "data": {
            "text/plain": [
              "<Figure size 640x480 with 1 Axes>"
            ],
            "image/png": "[encoded data removed]"
          },
          "metadata": {}
        }
      ]
    },
    {
      "cell_type": "code",
      "source": [
        "\n",
        "# Check for skewness and create density plots with reference lines\n",
        "for feature in numerical_features:\n",
        "    skewness = df[feature].skew()\n",
        "    print(f\" \\nSkewness for '{feature}': {skewness:.2f}\")\n",
        "\n",
        "    plt.hist(df[feature], density=True)  # Normalize to show probability density\n",
        "    x = np.linspace(df[feature].min(), df[feature].max(), 100)  # Generate x-axis values for reference line\n",
        "    plt.plot(x, stats.norm.pdf(x, df[feature].mean(), df[feature].std()), 'r-', label='Normal Distribution')  # Plot reference line\n",
        "    plt.xlabel(feature)\n",
        "    plt.ylabel(\"Density\")\n",
        "    plt.title(f\"Density Plot of {feature} with Normal Distribution Reference\")\n",
        "    plt.legend()\n",
        "    plt.show()\n"
      ],
      "metadata": {
        "colab": {
          "base_uri": "https://localhost:8080/",
          "height": 998
        },
        "id": "T14TxCsKARKP",
        "outputId": "83e2e4f5-67be-4979-bb53-01e54aa77bf2"
      },
      "execution_count": null,
      "outputs": [
        {
          "output_type": "stream",
          "name": "stdout",
          "text": [
            " \n",
            "Skewness for 'experience': 0.34\n"
          ]
        },
        {
          "output_type": "display_data",
          "data": {
            "text/plain": [
              "<Figure size 640x480 with 1 Axes>"
            ],
            "image/png": "[encoded data removed]"
          },
          "metadata": {}
        },
        {
          "output_type": "stream",
          "name": "stdout",
          "text": [
            " \n",
            "Skewness for 'training_hours': 1.82\n"
          ]
        },
        {
          "output_type": "display_data",
          "data": {
            "text/plain": [
              "<Figure size 640x480 with 1 Axes>"
            ],
            "image/png": "[encoded data removed]"
          },
          "metadata": {}
        }
      ]
    },
    {
      "cell_type": "code",
      "source": [
        "print(\"Skewness:\")\n",
        "for feature in numerical_features:\n",
        "    skew = df[feature].skew()\n",
        "    print(feature, \":\", skew)\n",
        "    print(\"\\nInterpretation:\")\n",
        "    if skew > 0:\n",
        "        print(\"  * The data has a slight positive skew, with potentially more data points towards the lower end (less\", feature, \").\")\n",
        "    elif skew < 0:\n",
        "        print(\"  * The data has a slight negative skew, with potentially more data points on the higher end (more\", feature, \").\")\n",
        "    else:\n",
        "        print(\"  * The skewness is close to zero, suggesting a relatively symmetrical distribution.\")\n",
        "    print(\"\\n\")"
      ],
      "metadata": {
        "colab": {
          "base_uri": "https://localhost:8080/"
        },
        "id": "JujcJ_MgAGr6",
        "outputId": "b582122f-5cbe-4406-9b18-58a697597039"
      },
      "execution_count": null,
      "outputs": [
        {
          "output_type": "stream",
          "name": "stdout",
          "text": [
            "Skewness:\n",
            "experience : 0.33882560477060786\n",
            "\n",
            "Interpretation:\n",
            "  * The data has a slight positive skew, with potentially more data points towards the lower end (less experience ).\n",
            "\n",
            "\n",
            "training_hours : 1.8245890537173453\n",
            "\n",
            "Interpretation:\n",
            "  * The data has a slight positive skew, with potentially more data points towards the lower end (less training_hours ).\n",
            "\n",
            "\n"
          ]
        }
      ]
    },
    {
      "cell_type": "markdown",
      "source": [
        "  **3.   Select two categorical features and verify if the data is balanced between the categories of each feature**"
      ],
      "metadata": {
        "id": "56owKBAjChDn"
      }
    },
    {
      "cell_type": "markdown",
      "source": [
        "*    **Select two categorical features**\n"
      ],
      "metadata": {
        "id": "8rQ-4SPeCsYY"
      }
    },
    {
      "cell_type": "code",
      "source": [
        "categorical_features = [\"company_type\", \"major_discipline\"]"
      ],
      "metadata": {
        "id": "TqGM1ME7CasH"
      },
      "execution_count": null,
      "outputs": []
    },
    {
      "cell_type": "code",
      "source": [
        "df[categorical_features].describe()"
      ],
      "metadata": {
        "colab": {
          "base_uri": "https://localhost:8080/",
          "height": 175
        },
        "id": "zMV6TZuRCw9F",
        "outputId": "00b42e41-070e-43c2-bc76-67f8177461a7"
      },
      "execution_count": null,
      "outputs": [
        {
          "output_type": "execute_result",
          "data": {
            "text/plain": [
              "       company_type major_discipline\n",
              "count         13018            16345\n",
              "unique            6                6\n",
              "top         Pvt Ltd             STEM\n",
              "freq           9817            14492"
            ],
            "text/html": [
              "\n",
              "  <div id=\"df-c3e70e80-4f45-4335-afbe-9d871a018958\" class=\"colab-df-container\">\n",
              "    <div>\n",
              "<style scoped>\n",
              "    .dataframe tbody tr th:only-of-type {\n",
              "        vertical-align: middle;\n",
              "    }\n",
              "\n",
              "    .dataframe tbody tr th {\n",
              "        vertical-align: top;\n",
              "    }\n",
              "\n",
              "    .dataframe thead th {\n",
              "        text-align: right;\n",
              "    }\n",
              "</style>\n",
              "<table border=\"1\" class=\"dataframe\">\n",
              "  <thead>\n",
              "    <tr style=\"text-align: right;\">\n",
              "      <th></th>\n",
              "      <th>company_type</th>\n",
              "      <th>major_discipline</th>\n",
              "    </tr>\n",
              "  </thead>\n",
              "  <tbody>\n",
              "    <tr>\n",
              "      <th>count</th>\n",
              "      <td>13018</td>\n",
              "      <td>16345</td>\n",
              "    </tr>\n",
              "    <tr>\n",
              "      <th>unique</th>\n",
              "      <td>6</td>\n",
              "      <td>6</td>\n",
              "    </tr>\n",
              "    <tr>\n",
              "      <th>top</th>\n",
              "      <td>Pvt Ltd</td>\n",
              "      <td>STEM</td>\n",
              "    </tr>\n",
              "    <tr>\n",
              "      <th>freq</th>\n",
              "      <td>9817</td>\n",
              "      <td>14492</td>\n",
              "    </tr>\n",
              "  </tbody>\n",
              "</table>\n",
              "</div>\n",
              "    <div class=\"colab-df-buttons\">\n",
              "\n",
              "  <div class=\"colab-df-container\">\n",
              "    <button class=\"colab-df-convert\" onclick=\"convertToInteractive('df-c3e70e80-4f45-4335-afbe-9d871a018958')\"\n",
              "            title=\"Convert this dataframe to an interactive table.\"\n",
              "            style=\"display:none;\">\n",
              "\n",
              "  <svg xmlns=\"http://www.w3.org/2000/svg\" height=\"24px\" viewBox=\"0 -960 960 960\">\n",
              "    <path d=\"M120-120v-720h720v720H120Zm60-500h600v-160H180v160Zm220 220h160v-160H400v160Zm0 220h160v-160H400v160ZM180-400h160v-160H180v160Zm440 0h160v-160H620v160ZM180-180h160v-160H180v160Zm440 0h160v-160H620v160Z\"/>\n",
              "  </svg>\n",
              "    </button>\n",
              "\n",
              "  <style>\n",
              "    .colab-df-container {\n",
              "      display:flex;\n",
              "      gap: 12px;\n",
              "    }\n",
              "\n",
              "    .colab-df-convert {\n",
              "      background-color: #E8F0FE;\n",
              "      border: none;\n",
              "      border-radius: 50%;\n",
              "      cursor: pointer;\n",
              "      display: none;\n",
              "      fill: #1967D2;\n",
              "      height: 32px;\n",
              "      padding: 0 0 0 0;\n",
              "      width: 32px;\n",
              "    }\n",
              "\n",
              "    .colab-df-convert:hover {\n",
              "      background-color: #E2EBFA;\n",
              "      box-shadow: 0px 1px 2px rgba(60, 64, 67, 0.3), 0px 1px 3px 1px rgba(60, 64, 67, 0.15);\n",
              "      fill: #174EA6;\n",
              "    }\n",
              "\n",
              "    .colab-df-buttons div {\n",
              "      margin-bottom: 4px;\n",
              "    }\n",
              "\n",
              "    [theme=dark] .colab-df-convert {\n",
              "      background-color: #3B4455;\n",
              "      fill: #D2E3FC;\n",
              "    }\n",
              "\n",
              "    [theme=dark] .colab-df-convert:hover {\n",
              "      background-color: #434B5C;\n",
              "      box-shadow: 0px 1px 3px 1px rgba(0, 0, 0, 0.15);\n",
              "      filter: drop-shadow(0px 1px 2px rgba(0, 0, 0, 0.3));\n",
              "      fill: #FFFFFF;\n",
              "    }\n",
              "  </style>\n",
              "\n",
              "    <script>\n",
              "      const buttonEl =\n",
              "        document.querySelector('#df-c3e70e80-4f45-4335-afbe-9d871a018958 button.colab-df-convert');\n",
              "      buttonEl.style.display =\n",
              "        google.colab.kernel.accessAllowed ? 'block' : 'none';\n",
              "\n",
              "      async function convertToInteractive(key) {\n",
              "        const element = document.querySelector('#df-c3e70e80-4f45-4335-afbe-9d871a018958');\n",
              "        const dataTable =\n",
              "          await google.colab.kernel.invokeFunction('convertToInteractive',\n",
              "                                                    [key], {});\n",
              "        if (!dataTable) return;\n",
              "\n",
              "        const docLinkHtml = 'Like what you see? Visit the ' +\n",
              "          '<a target=\"_blank\" href=https://colab.research.google.com/notebooks/data_table.ipynb>data table notebook</a>'\n",
              "          + ' to learn more about interactive tables.';\n",
              "        element.innerHTML = '';\n",
              "        dataTable['output_type'] = 'display_data';\n",
              "        await google.colab.output.renderOutput(dataTable, element);\n",
              "        const docLink = document.createElement('div');\n",
              "        docLink.innerHTML = docLinkHtml;\n",
              "        element.appendChild(docLink);\n",
              "      }\n",
              "    </script>\n",
              "  </div>\n",
              "\n",
              "\n",
              "<div id=\"df-23dad734-4804-4add-8dde-6c64350383ed\">\n",
              "  <button class=\"colab-df-quickchart\" onclick=\"quickchart('df-23dad734-4804-4add-8dde-6c64350383ed')\"\n",
              "            title=\"Suggest charts\"\n",
              "            style=\"display:none;\">\n",
              "\n",
              "<svg xmlns=\"http://www.w3.org/2000/svg\" height=\"24px\"viewBox=\"0 0 24 24\"\n",
              "     width=\"24px\">\n",
              "    <g>\n",
              "        <path d=\"M19 3H5c-1.1 0-2 .9-2 2v14c0 1.1.9 2 2 2h14c1.1 0 2-.9 2-2V5c0-1.1-.9-2-2-2zM9 17H7v-7h2v7zm4 0h-2V7h2v10zm4 0h-2v-4h2v4z\"/>\n",
              "    </g>\n",
              "</svg>\n",
              "  </button>\n",
              "\n",
              "<style>\n",
              "  .colab-df-quickchart {\n",
              "      --bg-color: #E8F0FE;\n",
              "      --fill-color: #1967D2;\n",
              "      --hover-bg-color: #E2EBFA;\n",
              "      --hover-fill-color: #174EA6;\n",
              "      --disabled-fill-color: #AAA;\n",
              "      --disabled-bg-color: #DDD;\n",
              "  }\n",
              "\n",
              "  [theme=dark] .colab-df-quickchart {\n",
              "      --bg-color: #3B4455;\n",
              "      --fill-color: #D2E3FC;\n",
              "      --hover-bg-color: #434B5C;\n",
              "      --hover-fill-color: #FFFFFF;\n",
              "      --disabled-bg-color: #3B4455;\n",
              "      --disabled-fill-color: #666;\n",
              "  }\n",
              "\n",
              "  .colab-df-quickchart {\n",
              "    background-color: var(--bg-color);\n",
              "    border: none;\n",
              "    border-radius: 50%;\n",
              "    cursor: pointer;\n",
              "    display: none;\n",
              "    fill: var(--fill-color);\n",
              "    height: 32px;\n",
              "    padding: 0;\n",
              "    width: 32px;\n",
              "  }\n",
              "\n",
              "  .colab-df-quickchart:hover {\n",
              "    background-color: var(--hover-bg-color);\n",
              "    box-shadow: 0 1px 2px rgba(60, 64, 67, 0.3), 0 1px 3px 1px rgba(60, 64, 67, 0.15);\n",
              "    fill: var(--button-hover-fill-color);\n",
              "  }\n",
              "\n",
              "  .colab-df-quickchart-complete:disabled,\n",
              "  .colab-df-quickchart-complete:disabled:hover {\n",
              "    background-color: var(--disabled-bg-color);\n",
              "    fill: var(--disabled-fill-color);\n",
              "    box-shadow: none;\n",
              "  }\n",
              "\n",
              "  .colab-df-spinner {\n",
              "    border: 2px solid var(--fill-color);\n",
              "    border-color: transparent;\n",
              "    border-bottom-color: var(--fill-color);\n",
              "    animation:\n",
              "      spin 1s steps(1) infinite;\n",
              "  }\n",
              "\n",
              "  @keyframes spin {\n",
              "    0% {\n",
              "      border-color: transparent;\n",
              "      border-bottom-color: var(--fill-color);\n",
              "      border-left-color: var(--fill-color);\n",
              "    }\n",
              "    20% {\n",
              "      border-color: transparent;\n",
              "      border-left-color: var(--fill-color);\n",
              "      border-top-color: var(--fill-color);\n",
              "    }\n",
              "    30% {\n",
              "      border-color: transparent;\n",
              "      border-left-color: var(--fill-color);\n",
              "      border-top-color: var(--fill-color);\n",
              "      border-right-color: var(--fill-color);\n",
              "    }\n",
              "    40% {\n",
              "      border-color: transparent;\n",
              "      border-right-color: var(--fill-color);\n",
              "      border-top-color: var(--fill-color);\n",
              "    }\n",
              "    60% {\n",
              "      border-color: transparent;\n",
              "      border-right-color: var(--fill-color);\n",
              "    }\n",
              "    80% {\n",
              "      border-color: transparent;\n",
              "      border-right-color: var(--fill-color);\n",
              "      border-bottom-color: var(--fill-color);\n",
              "    }\n",
              "    90% {\n",
              "      border-color: transparent;\n",
              "      border-bottom-color: var(--fill-color);\n",
              "    }\n",
              "  }\n",
              "</style>\n",
              "\n",
              "  <script>\n",
              "    async function quickchart(key) {\n",
              "      const quickchartButtonEl =\n",
              "        document.querySelector('#' + key + ' button');\n",
              "      quickchartButtonEl.disabled = true;  // To prevent multiple clicks.\n",
              "      quickchartButtonEl.classList.add('colab-df-spinner');\n",
              "      try {\n",
              "        const charts = await google.colab.kernel.invokeFunction(\n",
              "            'suggestCharts', [key], {});\n",
              "      } catch (error) {\n",
              "        console.error('Error during call to suggestCharts:', error);\n",
              "      }\n",
              "      quickchartButtonEl.classList.remove('colab-df-spinner');\n",
              "      quickchartButtonEl.classList.add('colab-df-quickchart-complete');\n",
              "    }\n",
              "    (() => {\n",
              "      let quickchartButtonEl =\n",
              "        document.querySelector('#df-23dad734-4804-4add-8dde-6c64350383ed button');\n",
              "      quickchartButtonEl.style.display =\n",
              "        google.colab.kernel.accessAllowed ? 'block' : 'none';\n",
              "    })();\n",
              "  </script>\n",
              "</div>\n",
              "\n",
              "    </div>\n",
              "  </div>\n"
            ],
            "application/vnd.google.colaboratory.intrinsic+json": {
              "type": "dataframe",
              "summary": "{\n  \"name\": \"df[categorical_features]\",\n  \"rows\": 4,\n  \"fields\": [\n    {\n      \"column\": \"company_type\",\n      \"properties\": {\n        \"dtype\": \"string\",\n        \"num_unique_values\": 4,\n        \"samples\": [\n          6,\n          \"9817\",\n          \"13018\"\n        ],\n        \"semantic_type\": \"\",\n        \"description\": \"\"\n      }\n    },\n    {\n      \"column\": \"major_discipline\",\n      \"properties\": {\n        \"dtype\": \"string\",\n        \"num_unique_values\": 4,\n        \"samples\": [\n          6,\n          \"14492\",\n          \"16345\"\n        ],\n        \"semantic_type\": \"\",\n        \"description\": \"\"\n      }\n    }\n  ]\n}"
            }
          },
          "metadata": {},
          "execution_count": 55
        }
      ]
    },
    {
      "cell_type": "markdown",
      "source": [
        "*   **verify if the data is balanced between the categories of each feature**\n"
      ],
      "metadata": {
        "id": "JPjOTH_pC-5h"
      }
    },
    {
      "cell_type": "markdown",
      "source": [
        "company type counts"
      ],
      "metadata": {
        "id": "5wLxeVp2bIbl"
      }
    },
    {
      "cell_type": "code",
      "source": [
        "# Check counts of each category within the features\n",
        "company_type_counts = df['company_type'].value_counts()\n",
        "major_discipline_counts = df['major_discipline'].value_counts()"
      ],
      "metadata": {
        "id": "Z-D-sJRtZjDc"
      },
      "execution_count": null,
      "outputs": []
    },
    {
      "cell_type": "markdown",
      "source": [
        "major discipline counts"
      ],
      "metadata": {
        "id": "bdPiMJoUbRlc"
      }
    },
    {
      "cell_type": "code",
      "source": [
        "print(\"Company Type counts:\")\n",
        "print(company_type_counts)\n",
        "print(\"\\nMajor Discipline counts:\")\n",
        "print(major_discipline_counts)"
      ],
      "metadata": {
        "colab": {
          "base_uri": "https://localhost:8080/"
        },
        "id": "HFQqYvVybDC_",
        "outputId": "376ae686-575d-4e0a-cbf3-0bfdd4c85ead"
      },
      "execution_count": null,
      "outputs": [
        {
          "output_type": "stream",
          "name": "stdout",
          "text": [
            "Company Type counts:\n",
            "Pvt Ltd                9817\n",
            "Funded Startup         1001\n",
            "Public Sector           955\n",
            "Early Stage Startup     603\n",
            "NGO                     521\n",
            "Other                   121\n",
            "Name: company_type, dtype: int64\n",
            "\n",
            "Major Discipline counts:\n",
            "STEM               14492\n",
            "Humanities           669\n",
            "Other                381\n",
            "Business Degree      327\n",
            "Arts                 253\n",
            "No Major             223\n",
            "Name: major_discipline, dtype: int64\n"
          ]
        }
      ]
    },
    {
      "cell_type": "code",
      "source": [
        "\n",
        "# Plotting count plots for company_type and major_discipline\n",
        "plt.figure(figsize=(12, 6))\n",
        "plt.subplot(1, 2, 1)\n",
        "sns.countplot(data=df, x='company_type')\n",
        "plt.title('Distribution of Company Type')\n",
        "\n",
        "plt.subplot(1, 2, 2)\n",
        "sns.countplot(data=df, x='major_discipline')\n",
        "plt.title('Distribution of Major Discipline')\n",
        "\n",
        "plt.tight_layout()\n",
        "plt.show()\n"
      ],
      "metadata": {
        "colab": {
          "base_uri": "https://localhost:8080/",
          "height": 521
        },
        "id": "dOXoInxhb0EA",
        "outputId": "ee35f04b-6f8d-4016-d7a2-855f4b2b5e87"
      },
      "execution_count": null,
      "outputs": [
        {
          "output_type": "display_data",
          "data": {
            "text/plain": [
              "<Figure size 1200x600 with 2 Axes>"
            ],
            "image/png": "[encoded data removed]"
          },
          "metadata": {}
        }
      ]
    },
    {
      "cell_type": "markdown",
      "source": [
        "The data is not perfectly balanced within the categories of each feature. However, there is diversity and representation across multiple categories in both \"Company Type\" and \"Major Discipline\".\n",
        "\n",
        "Therefore, while the dataset does not exhibit perfect balance, it still captures a range of experiences and backgrounds, which can provide valuable insights for analysis. In this case, while there is some level of imbalance, the dataset is sufficiently diverse across categories to provide meaningful insights.\n",
        "\n",
        "\n",
        "---\n",
        "\n"
      ],
      "metadata": {
        "id": "uxbV9SvZdAek"
      }
    },
    {
      "cell_type": "markdown",
      "source": [
        "\n",
        "\n",
        "4.   ***Based on your intuition, select two features that you think they could be correlated. Verify your assumption using both visualization and the correlation coefficient approaches***\n",
        "\n"
      ],
      "metadata": {
        "id": "9MY0_PHmf8gy"
      }
    },
    {
      "cell_type": "markdown",
      "source": [
        "\n",
        "\n",
        "*   **select two features that you think they could be correlated**\n",
        "\n"
      ],
      "metadata": {
        "id": "ZhwhTwcbgJ9s"
      }
    },
    {
      "cell_type": "code",
      "source": [
        "features = [\"city_development_index\", \"training_hours\"]"
      ],
      "metadata": {
        "id": "uOAACvwegd1k"
      },
      "execution_count": null,
      "outputs": []
    },
    {
      "cell_type": "code",
      "source": [
        "# Drop rows with missing values in 'city_development_index' and 'training_hours'\n",
        "df_cleaned = df.dropna(subset=['city_development_index', 'training_hours'])"
      ],
      "metadata": {
        "id": "--2SfjcIhwqQ"
      },
      "execution_count": null,
      "outputs": []
    },
    {
      "cell_type": "markdown",
      "source": [
        "\n",
        "\n",
        "*   **Verify your assumption using both visualization and the correlation coefficient approaches**\n",
        "\n"
      ],
      "metadata": {
        "id": "jj7oES2Fha0G"
      }
    },
    {
      "cell_type": "code",
      "source": [
        "\n",
        "# Scatter plot\n",
        "df.plot.scatter(x=\"city_development_index\", y=\"training_hours\")\n",
        "plt.title('Scatter Plot of City Development Index vs Training Hours')\n",
        "plt.xlabel('City Development Index')\n",
        "plt.ylabel('Training Hours')\n",
        "plt.show()\n"
      ],
      "metadata": {
        "colab": {
          "base_uri": "https://localhost:8080/",
          "height": 472
        },
        "id": "gQVRAs2peSEK",
        "outputId": "8736f321-28da-4bfc-9a49-b72e319a9d9e"
      },
      "execution_count": null,
      "outputs": [
        {
          "output_type": "display_data",
          "data": {
            "text/plain": [
              "<Figure size 640x480 with 1 Axes>"
            ],
            "image/png": "[encoded data removed]"
          },
          "metadata": {}
        }
      ]
    },
    {
      "cell_type": "code",
      "source": [
        "correlation_coefficient = df['city_development_index'].corr(df['training_hours'])\n",
        "print(\"Correlation Coefficient between City Development Index and Training Hours:\", correlation_coefficient)\n"
      ],
      "metadata": {
        "colab": {
          "base_uri": "https://localhost:8080/"
        },
        "id": "kheiuUKteWqX",
        "outputId": "8d75c7fd-47d3-4eec-bd9a-6f32be36bed8"
      },
      "execution_count": null,
      "outputs": [
        {
          "output_type": "stream",
          "name": "stdout",
          "text": [
            "Correlation Coefficient between City Development Index and Training Hours: -0.002082695567084684\n"
          ]
        }
      ]
    },
    {
      "cell_type": "markdown",
      "source": [
        "So,A correlation coefficient close to 0 suggests that there is little to no linear relationship between the two variables. In this case, the correlation coefficient being close to zero indicates that there is very weak or no correlation\n",
        "\n",
        "\n",
        "---\n",
        "\n",
        "\n",
        "Analysis of \"City Development Index\" and \"Training Hours\" shows no significant correlation, indicating these factors are not linked."
      ],
      "metadata": {
        "id": "9o94ZTyFkChj"
      }
    },
    {
      "cell_type": "markdown",
      "source": [
        "\n",
        "\n",
        "\n",
        "5.     ***Are their features that can be used as index?***\n",
        "\n",
        "\n",
        "\n",
        "\n",
        "\n"
      ],
      "metadata": {
        "id": "ZG_vqVoymDm-"
      }
    },
    {
      "cell_type": "markdown",
      "source": [
        "\"City Development Index\" nor \"Training Hours\" can be used as an index in this dataset"
      ],
      "metadata": {
        "id": "n2AxZ5JgmAUU"
      }
    }
  ]
}